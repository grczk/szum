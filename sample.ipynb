{
 "cells": [
  {
   "cell_type": "markdown",
   "id": "cd67bce93de11c8c",
   "metadata": {},
   "source": [
    "# Import and some path preparation"
   ]
  },
  {
   "cell_type": "code",
   "execution_count": 35,
   "id": "9667dd77fc09dab9",
   "metadata": {
    "ExecuteTime": {
     "end_time": "2025-05-06T01:53:59.041546800Z",
     "start_time": "2025-05-06T01:53:59.021786Z"
    }
   },
   "outputs": [],
   "source": [
    "import glob\n",
    "import os\n",
    "from collections import Counter\n",
    "from pathlib import Path\n",
    "from random import Random\n",
    "\n",
    "import numpy as np\n",
    "from PIL import Image\n",
    "import shutil\n",
    "from IPython.core.display import HTML\n",
    "from matplotlib import pyplot as plt\n",
    "from tensorflow.keras.preprocessing.image import ImageDataGenerator"
   ]
  },
  {
   "cell_type": "code",
   "execution_count": 2,
   "id": "c8ac1f34e4d5a6d3",
   "metadata": {
    "ExecuteTime": {
     "end_time": "2025-05-06T00:34:38.762990200Z",
     "start_time": "2025-05-06T00:34:38.756315300Z"
    }
   },
   "outputs": [],
   "source": [
    "main_szum_path = \"C:/Pliki/studia/sem1/szum\""
   ]
  },
  {
   "cell_type": "code",
   "execution_count": 3,
   "id": "7aaae1124bb98f77",
   "metadata": {
    "ExecuteTime": {
     "end_time": "2025-05-06T00:34:38.779459100Z",
     "start_time": "2025-05-06T00:34:38.761988900Z"
    }
   },
   "outputs": [],
   "source": [
    "datasets = {\n",
    "    \"Recognize Animals\": f\"{main_szum_path}/datasets/data1\",\n",
    "    \"Unsplash\": f\"{main_szum_path}/datasets/data4\",\n",
    "    \"Smoker Detection [Image] classification Dataset\": f\"{main_szum_path}/datasets/data3\",\n",
    "}"
   ]
  },
  {
   "cell_type": "markdown",
   "id": "e2fcb2a6a986a058",
   "metadata": {},
   "source": [
    "# Merging test/valid/train in datasets"
   ]
  },
  {
   "cell_type": "markdown",
   "id": "9bdf3d17b02c8fcb",
   "metadata": {},
   "source": [
    "## Smoker Detection [Image] classification Dataset separation"
   ]
  },
  {
   "cell_type": "code",
   "execution_count": 19,
   "id": "c95bd422bc5bd46e",
   "metadata": {
    "ExecuteTime": {
     "end_time": "2025-05-05T00:08:52.555725600Z",
     "start_time": "2025-05-05T00:08:52.013662500Z"
    }
   },
   "outputs": [],
   "source": [
    "try:\n",
    "    os.mkdir(f\"{datasets[\"Smoker Detection [Image] classification Dataset\"]}/not_smoking\")\n",
    "except FileExistsError:\n",
    "    pass\n",
    "try:\n",
    "    os.mkdir(f\"{datasets[\"Smoker Detection [Image] classification Dataset\"]}/smoking\")\n",
    "except FileExistsError:\n",
    "    pass\n",
    "\n",
    "lista = glob.glob(f\"{datasets[\"Smoker Detection [Image] classification Dataset\"]}/**/notsmoking*.*\",recursive=True)\n",
    "for file in lista:\n",
    "    Path(file).rename(f\"{datasets[\"Smoker Detection [Image] classification Dataset\"]}/not_smoking/{os.path.basename(file)}\")\n",
    "\n",
    "lista = glob.glob(f\"{datasets[\"Smoker Detection [Image] classification Dataset\"]}/**/smoking*.*\",recursive=True)\n",
    "for file in lista:\n",
    "    Path(file).rename(f\"{datasets[\"Smoker Detection [Image] classification Dataset\"]}/smoking/{os.path.basename(file)}\")"
   ]
  },
  {
   "cell_type": "markdown",
   "id": "d030471ecddc8dc2",
   "metadata": {},
   "source": [
    "## Recognize Animals separation"
   ]
  },
  {
   "cell_type": "code",
   "execution_count": 23,
   "id": "81941db15d4b4d84",
   "metadata": {
    "ExecuteTime": {
     "end_time": "2025-05-05T00:12:23.612128900Z",
     "start_time": "2025-05-05T00:12:16.741802900Z"
    }
   },
   "outputs": [],
   "source": [
    "try:\n",
    "    os.mkdir(f\"{datasets[\"Recognize Animals\"]}/none\")\n",
    "except FileExistsError:\n",
    "    pass\n",
    "\n",
    "lista = glob.glob(f\"{datasets[\"Recognize Animals\"]}/**/*.*\",recursive=True)\n",
    "for file in lista:\n",
    "    Path(file).rename(f\"{datasets[\"Recognize Animals\"]}/none/{os.path.basename(file)}\")"
   ]
  },
  {
   "cell_type": "markdown",
   "id": "d5cb8d51d638e85c",
   "metadata": {},
   "source": [
    "# Dataset statistics"
   ]
  },
  {
   "cell_type": "code",
   "execution_count": 24,
   "id": "be9f7b752a88fba8",
   "metadata": {
    "ExecuteTime": {
     "end_time": "2025-05-05T00:13:33.874734200Z",
     "start_time": "2025-05-05T00:13:10.508416800Z"
    }
   },
   "outputs": [
    {
     "name": "stdout",
     "output_type": "stream",
     "text": [
      "Processing: Recognize Animals\n",
      "Processing: Unsplash\n",
      "Processing: Smoker Detection [Image] classification Dataset\n"
     ]
    }
   ],
   "source": [
    "datasets_lists = []\n",
    "for key, value in datasets.items():\n",
    "    print(f\"Processing: {key}\")\n",
    "    smoking_list = glob.glob(f\"{value}/smoking/*.*\")\n",
    "    not_smoking_list = glob.glob(f\"{value}/not_smoking/*.*\")\n",
    "    none_list = glob.glob(f\"{value}/none/*.*\")\n",
    "    all_list = glob.glob(f\"{value}/**/*.*\",recursive=True)\n",
    "\n",
    "    image_list = []\n",
    "    for i in all_list:\n",
    "        try:\n",
    "            with Image.open(i) as img:\n",
    "                img.convert('RGB')\n",
    "                image_list.append(img)\n",
    "        except Exception as e:\n",
    "            pass\n",
    "    datasets_lists.append({\n",
    "        \"key\": key,\n",
    "        \"smoking_list\": smoking_list,\n",
    "        \"not_smoking_list\": not_smoking_list,\n",
    "        \"none_list\": none_list,\n",
    "        \"image_list\": image_list,\n",
    "        \"all_list\": all_list,\n",
    "    })"
   ]
  },
  {
   "cell_type": "code",
   "execution_count": 25,
   "id": "5d8cc6418086722",
   "metadata": {
    "ExecuteTime": {
     "end_time": "2025-05-05T00:13:36.369876100Z",
     "start_time": "2025-05-05T00:13:36.114196300Z"
    }
   },
   "outputs": [
    {
     "data": {
      "text/plain": "<IPython.core.display.HTML object>",
      "text/html": "\n        <h1>Recognize Animals</h1>\n        <p><b>Smoking count:</b> 0 (0.0%)</p>\n        <p><b>Not smoking count:</b> 0 (0.0%)</p>\n        <p><b>none count:</b> 9108 (100.0%)</p>\n        <p><b>Max size:</b> (640, 640); <b>Min size:</b> (65, 64)</p>\n        <p><b>Type count:</b></p> <ul><li>JPEG: 9058</li><li>PNG: 48</li></ul>\n    "
     },
     "metadata": {},
     "output_type": "display_data"
    },
    {
     "data": {
      "text/plain": "<IPython.core.display.HTML object>",
      "text/html": "\n        <h1>Unsplash</h1>\n        <p><b>Smoking count:</b> 500 (50.0%)</p>\n        <p><b>Not smoking count:</b> 500 (50.0%)</p>\n        <p><b>none count:</b> 0 (0.0%)</p>\n        <p><b>Max size:</b> (250, 250); <b>Min size:</b> (250, 250)</p>\n        <p><b>Type count:</b></p> <ul><li>JPEG: 1000</li></ul>\n    "
     },
     "metadata": {},
     "output_type": "display_data"
    },
    {
     "data": {
      "text/plain": "<IPython.core.display.HTML object>",
      "text/html": "\n        <h1>Smoker Detection [Image] classification Dataset</h1>\n        <p><b>Smoking count:</b> 560 (50.0%)</p>\n        <p><b>Not smoking count:</b> 560 (50.0%)</p>\n        <p><b>none count:</b> 0 (0.0%)</p>\n        <p><b>Max size:</b> (250, 250); <b>Min size:</b> (250, 250)</p>\n        <p><b>Type count:</b></p> <ul><li>JPEG: 1120</li></ul>\n    "
     },
     "metadata": {},
     "output_type": "display_data"
    }
   ],
   "source": [
    "for data in datasets_lists:\n",
    "    size_list = [i.size for i in data[\"image_list\"]]\n",
    "    type_count_list = Counter([i.format for i in data[\"image_list\"]])\n",
    "    display()\n",
    "    display(HTML(f\"\"\"\n",
    "        <h1>{data[\"key\"]}</h1>\n",
    "        <p><b>Smoking count:</b> {len(data[\"smoking_list\"])} ({len(data[\"smoking_list\"])/len(data[\"all_list\"]) * 100}%)</p>\n",
    "        <p><b>Not smoking count:</b> {len(data[\"not_smoking_list\"])} ({len(data[\"not_smoking_list\"])/len(data[\"all_list\"]) * 100}%)</p>\n",
    "        <p><b>none count:</b> {len(data[\"none_list\"])} ({len(data[\"none_list\"])/len(data[\"all_list\"]) * 100}%)</p>\n",
    "        <p><b>Max size:</b> {max(size_list)}; <b>Min size:</b> {min(size_list)}</p>\n",
    "        <p><b>Type count:</b></p> <ul>{\"\".join([f\"<li>{k}: {v}</li>\" for k,v in type_count_list.items()])}</ul>\n",
    "    \"\"\"))"
   ]
  },
  {
   "cell_type": "markdown",
   "id": "19716541812a4e20",
   "metadata": {},
   "source": [
    "# Merging all datasets to one"
   ]
  },
  {
   "cell_type": "code",
   "execution_count": 4,
   "id": "818fa5d530d49bd1",
   "metadata": {
    "ExecuteTime": {
     "end_time": "2025-05-06T00:34:38.784753800Z",
     "start_time": "2025-05-06T00:34:38.775510700Z"
    }
   },
   "outputs": [],
   "source": [
    "paths = [\n",
    "    f\"{main_szum_path}/not_smoking\",\n",
    "    f\"{main_szum_path}/smoking\",\n",
    "    f\"{main_szum_path}/none\"\n",
    "]"
   ]
  },
  {
   "cell_type": "code",
   "execution_count": 27,
   "id": "1c2ef250f59020b8",
   "metadata": {
    "ExecuteTime": {
     "end_time": "2025-05-05T00:14:08.163613200Z",
     "start_time": "2025-05-05T00:13:47.876768500Z"
    }
   },
   "outputs": [],
   "source": [
    "for data in datasets_lists:\n",
    "    for i in paths:\n",
    "        try:\n",
    "            os.mkdir(i)\n",
    "        except FileExistsError:\n",
    "            pass\n",
    "        for file in data[f\"{os.path.basename(i)}_list\"]:\n",
    "            shutil.copy(file, f\"{i}/{os.path.basename(file)}\")"
   ]
  },
  {
   "cell_type": "code",
   "execution_count": 28,
   "id": "7cf3655208979b59",
   "metadata": {
    "ExecuteTime": {
     "end_time": "2025-05-05T00:14:09.727392700Z",
     "start_time": "2025-05-05T00:14:09.356283Z"
    }
   },
   "outputs": [
    {
     "data": {
      "text/plain": "<IPython.core.display.HTML object>",
      "text/html": "\n    <h1>Merged datasets</h1>\n    <ul><li><b>not_smoking:</b> 1060 (9.440684004275028%)</li><li><b>smoking:</b> 1060 (9.440684004275028%)</li><li><b>none:</b> 9108 (81.11863199144994%)</li></ul>\n"
     },
     "metadata": {},
     "output_type": "display_data"
    }
   ],
   "source": [
    "lista = [(os.path.basename(path),len(glob.glob(f\"{path}/*.*\"))) for path in paths]\n",
    "all_count = sum([v for _,v in lista])\n",
    "display(HTML(f\"\"\"\n",
    "    <h1>Merged datasets</h1>\n",
    "    <ul>{\"\".join([f\"<li><b>{k}:</b> {v} ({v/all_count *100}%)</li>\" for k, v in lista])}</ul>\n",
    "\"\"\"))"
   ]
  },
  {
   "cell_type": "markdown",
   "id": "8bee2f3593b78ae2",
   "metadata": {},
   "source": [
    "## Filter images based on their size"
   ]
  },
  {
   "cell_type": "code",
   "execution_count": 29,
   "id": "f8ac48d0efa283dd",
   "metadata": {
    "ExecuteTime": {
     "end_time": "2025-05-05T00:15:54.578295700Z",
     "start_time": "2025-05-05T00:14:17.049231900Z"
    }
   },
   "outputs": [
    {
     "name": "stdout",
     "output_type": "stream",
     "text": [
      "Error in open filenames.txt: cannot identify image file 'C:/Pliki/studia/sem1/szum/none\\\\filenames.txt'\n",
      "Error in open filenames_elefante_train.txt: cannot identify image file 'C:/Pliki/studia/sem1/szum/none\\\\filenames_elefante_train.txt'\n"
     ]
    },
    {
     "ename": "FileExistsError",
     "evalue": "[WinError 183] Nie można utworzyć pliku, który już istnieje: 'C:\\\\Pliki\\\\studia\\\\sem1\\\\szum\\\\none\\\\eb32b3082ef1053ed1584d05fb1d4e9fe777ead218ac104497f5c978a4efbcb0_640.jpg' -> 'C:/Pliki/studia/sem1/szum/none/small_photo/eb32b3082ef1053ed1584d05fb1d4e9fe777ead218ac104497f5c978a4efbcb0_640.jpg'",
     "output_type": "error",
     "traceback": [
      "\u001B[1;31m---------------------------------------------------------------------------\u001B[0m",
      "\u001B[1;31mFileExistsError\u001B[0m                           Traceback (most recent call last)",
      "Cell \u001B[1;32mIn[29], line 19\u001B[0m\n\u001B[0;32m     17\u001B[0m     \u001B[38;5;28;01mpass\u001B[39;00m\n\u001B[0;32m     18\u001B[0m \u001B[38;5;28;01mfor\u001B[39;00m file \u001B[38;5;129;01min\u001B[39;00m small_photo:\n\u001B[1;32m---> 19\u001B[0m     \u001B[43mPath\u001B[49m\u001B[43m(\u001B[49m\u001B[43mfile\u001B[49m\u001B[43m)\u001B[49m\u001B[38;5;241;43m.\u001B[39;49m\u001B[43mrename\u001B[49m\u001B[43m(\u001B[49m\u001B[38;5;124;43mf\u001B[39;49m\u001B[38;5;124;43m\"\u001B[39;49m\u001B[38;5;132;43;01m{\u001B[39;49;00m\u001B[43mpath\u001B[49m\u001B[38;5;132;43;01m}\u001B[39;49;00m\u001B[38;5;124;43m/small_photo/\u001B[39;49m\u001B[38;5;132;43;01m{\u001B[39;49;00m\u001B[43mos\u001B[49m\u001B[38;5;241;43m.\u001B[39;49m\u001B[43mpath\u001B[49m\u001B[38;5;241;43m.\u001B[39;49m\u001B[43mbasename\u001B[49m\u001B[43m(\u001B[49m\u001B[43mfile\u001B[49m\u001B[43m)\u001B[49m\u001B[38;5;132;43;01m}\u001B[39;49;00m\u001B[38;5;124;43m\"\u001B[39;49m\u001B[43m)\u001B[49m\n",
      "File \u001B[1;32m~\\AppData\\Local\\Programs\\Python\\Python312\\Lib\\pathlib.py:1363\u001B[0m, in \u001B[0;36mPath.rename\u001B[1;34m(self, target)\u001B[0m\n\u001B[0;32m   1353\u001B[0m \u001B[38;5;28;01mdef\u001B[39;00m\u001B[38;5;250m \u001B[39m\u001B[38;5;21mrename\u001B[39m(\u001B[38;5;28mself\u001B[39m, target):\n\u001B[0;32m   1354\u001B[0m \u001B[38;5;250m    \u001B[39m\u001B[38;5;124;03m\"\"\"\u001B[39;00m\n\u001B[0;32m   1355\u001B[0m \u001B[38;5;124;03m    Rename this path to the target path.\u001B[39;00m\n\u001B[0;32m   1356\u001B[0m \n\u001B[1;32m   (...)\u001B[0m\n\u001B[0;32m   1361\u001B[0m \u001B[38;5;124;03m    Returns the new Path instance pointing to the target path.\u001B[39;00m\n\u001B[0;32m   1362\u001B[0m \u001B[38;5;124;03m    \"\"\"\u001B[39;00m\n\u001B[1;32m-> 1363\u001B[0m     \u001B[43mos\u001B[49m\u001B[38;5;241;43m.\u001B[39;49m\u001B[43mrename\u001B[49m\u001B[43m(\u001B[49m\u001B[38;5;28;43mself\u001B[39;49m\u001B[43m,\u001B[49m\u001B[43m \u001B[49m\u001B[43mtarget\u001B[49m\u001B[43m)\u001B[49m\n\u001B[0;32m   1364\u001B[0m     \u001B[38;5;28;01mreturn\u001B[39;00m \u001B[38;5;28mself\u001B[39m\u001B[38;5;241m.\u001B[39mwith_segments(target)\n",
      "\u001B[1;31mFileExistsError\u001B[0m: [WinError 183] Nie można utworzyć pliku, który już istnieje: 'C:\\\\Pliki\\\\studia\\\\sem1\\\\szum\\\\none\\\\eb32b3082ef1053ed1584d05fb1d4e9fe777ead218ac104497f5c978a4efbcb0_640.jpg' -> 'C:/Pliki/studia/sem1/szum/none/small_photo/eb32b3082ef1053ed1584d05fb1d4e9fe777ead218ac104497f5c978a4efbcb0_640.jpg'"
     ]
    }
   ],
   "source": [
    "for path in paths:\n",
    "    small_photo = []\n",
    "    for filename in os.listdir(path):\n",
    "        filepath = os.path.join(path, filename)\n",
    "        if os.path.isfile(filepath):\n",
    "            try:\n",
    "                with Image.open(filepath) as img:\n",
    "                    width, height = img.size\n",
    "                    if width < 224 or height < 224:\n",
    "                        small_photo.append(filepath)\n",
    "            except Exception as e:\n",
    "                print(f\"Error in open {filename}: {e}\")\n",
    "\n",
    "    try:\n",
    "        os.mkdir(f\"{path}\\\\small_photo\")\n",
    "    except FileExistsError:\n",
    "        pass\n",
    "    for file in small_photo:\n",
    "        Path(file).rename(f\"{path}/small_photo/{os.path.basename(file)}\")"
   ]
  },
  {
   "cell_type": "code",
   "execution_count": 30,
   "id": "40a0999545c9ab69",
   "metadata": {
    "ExecuteTime": {
     "end_time": "2025-05-05T00:16:08.094515200Z",
     "start_time": "2025-05-05T00:16:07.855756900Z"
    }
   },
   "outputs": [
    {
     "data": {
      "text/plain": "<IPython.core.display.HTML object>",
      "text/html": "\n    <h1>Merged datasets after size filter</h1>\n    <ul><li><b>not_smoking:</b> 1060 (9.440684004275028%)</li><li><b>smoking:</b> 1060 (9.440684004275028%)</li><li><b>none:</b> 9108 (81.11863199144994%)</li></ul>\n"
     },
     "metadata": {},
     "output_type": "display_data"
    }
   ],
   "source": [
    "lista = [(os.path.basename(path),len(glob.glob(f\"{path}/*.*\"))) for path in paths]\n",
    "all_count = sum([v for _,v in lista])\n",
    "display(HTML(f\"\"\"\n",
    "    <h1>Merged datasets after size filter</h1>\n",
    "    <ul>{\"\".join([f\"<li><b>{k}:</b> {v} ({v/all_count *100}%)</li>\" for k, v in lista])}</ul>\n",
    "\"\"\"))"
   ]
  },
  {
   "cell_type": "markdown",
   "id": "8bf8c4e937aa41a1",
   "metadata": {},
   "source": [
    "## Filter images based on their format/type"
   ]
  },
  {
   "cell_type": "code",
   "execution_count": 13,
   "id": "94c2030c1b185671",
   "metadata": {
    "ExecuteTime": {
     "end_time": "2025-05-04T23:53:43.132555800Z",
     "start_time": "2025-05-04T23:53:42.372782500Z"
    }
   },
   "outputs": [],
   "source": [
    "for path in paths:\n",
    "    try:\n",
    "        os.mkdir(f\"{path}/not_jpg\")\n",
    "    except FileExistsError:\n",
    "        pass\n",
    "    for filename in [f for f in os.listdir(path) if os.path.isfile(os.path.join(path, f))]:\n",
    "        if Path(filename).suffix.lower() not in ['.jpg', '.jpeg']:\n",
    "            Path(f\"{path}/{filename}\").rename(f\"{path}/not_jpg/{filename}\")"
   ]
  },
  {
   "cell_type": "code",
   "execution_count": 31,
   "id": "9376c589a71defe7",
   "metadata": {
    "ExecuteTime": {
     "end_time": "2025-05-05T00:16:28.677110600Z",
     "start_time": "2025-05-05T00:16:28.327963200Z"
    }
   },
   "outputs": [
    {
     "data": {
      "text/plain": "<IPython.core.display.HTML object>",
      "text/html": "\n    <h1>Merged datasets after format filter</h1>\n    <ul><li><b>not_smoking:</b> 1060 (9.440684004275028%)</li><li><b>smoking:</b> 1060 (9.440684004275028%)</li><li><b>none:</b> 9108 (81.11863199144994%)</li></ul>\n"
     },
     "metadata": {},
     "output_type": "display_data"
    }
   ],
   "source": [
    "lista = [(os.path.basename(path),len(glob.glob(f\"{path}/*.*\"))) for path in paths]\n",
    "all_count = sum([v for _,v in lista])\n",
    "display(HTML(f\"\"\"\n",
    "    <h1>Merged datasets after format filter</h1>\n",
    "    <ul>{\"\".join([f\"<li><b>{k}:</b> {v} ({v/all_count *100}%)</li>\" for k, v in lista])}</ul>\n",
    "\"\"\"))"
   ]
  },
  {
   "cell_type": "code",
   "execution_count": 6,
   "id": "2264ff5161e6c70d",
   "metadata": {
    "ExecuteTime": {
     "end_time": "2025-05-06T00:38:15.906046600Z",
     "start_time": "2025-05-06T00:35:10.341567800Z"
    }
   },
   "outputs": [
    {
     "ename": "KeyboardInterrupt",
     "evalue": "",
     "output_type": "error",
     "traceback": [
      "\u001B[1;31m---------------------------------------------------------------------------\u001B[0m",
      "\u001B[1;31mKeyboardInterrupt\u001B[0m                         Traceback (most recent call last)",
      "Cell \u001B[1;32mIn[6], line 12\u001B[0m\n\u001B[0;32m     10\u001B[0m     \u001B[38;5;28;01mreturn\u001B[39;00m result\n\u001B[0;32m     11\u001B[0m image_list \u001B[38;5;241m=\u001B[39m get_all_images()\n\u001B[1;32m---> 12\u001B[0m \u001B[38;5;28mprint\u001B[39m(\u001B[38;5;124m\"\u001B[39m\u001B[38;5;124mdfs\u001B[39m\u001B[38;5;124m\"\u001B[39m)\n",
      "File \u001B[1;32m_pydevd_bundle\\\\pydevd_cython_win32_312_64.pyx:1179\u001B[0m, in \u001B[0;36m_pydevd_bundle.pydevd_cython_win32_312_64.SafeCallWrapper.__call__\u001B[1;34m()\u001B[0m\n",
      "File \u001B[1;32m_pydevd_bundle\\\\pydevd_cython_win32_312_64.pyx:620\u001B[0m, in \u001B[0;36m_pydevd_bundle.pydevd_cython_win32_312_64.PyDBFrame.trace_dispatch\u001B[1;34m()\u001B[0m\n",
      "File \u001B[1;32m_pydevd_bundle\\\\pydevd_cython_win32_312_64.pyx:929\u001B[0m, in \u001B[0;36m_pydevd_bundle.pydevd_cython_win32_312_64.PyDBFrame.trace_dispatch\u001B[1;34m()\u001B[0m\n",
      "File \u001B[1;32m_pydevd_bundle\\\\pydevd_cython_win32_312_64.pyx:920\u001B[0m, in \u001B[0;36m_pydevd_bundle.pydevd_cython_win32_312_64.PyDBFrame.trace_dispatch\u001B[1;34m()\u001B[0m\n",
      "File \u001B[1;32m_pydevd_bundle\\\\pydevd_cython_win32_312_64.pyx:317\u001B[0m, in \u001B[0;36m_pydevd_bundle.pydevd_cython_win32_312_64.PyDBFrame.do_wait_suspend\u001B[1;34m()\u001B[0m\n",
      "File \u001B[1;32mC:\\Program Files\\JetBrains\\PyCharm 2023.2.3\\plugins\\python\\helpers\\pydev\\pydevd.py:1160\u001B[0m, in \u001B[0;36mPyDB.do_wait_suspend\u001B[1;34m(self, thread, frame, event, arg, send_suspend_message, is_unhandled_exception)\u001B[0m\n\u001B[0;32m   1157\u001B[0m         from_this_thread\u001B[38;5;241m.\u001B[39mappend(frame_id)\n\u001B[0;32m   1159\u001B[0m \u001B[38;5;28;01mwith\u001B[39;00m \u001B[38;5;28mself\u001B[39m\u001B[38;5;241m.\u001B[39m_threads_suspended_single_notification\u001B[38;5;241m.\u001B[39mnotify_thread_suspended(thread_id, stop_reason):\n\u001B[1;32m-> 1160\u001B[0m     \u001B[38;5;28;43mself\u001B[39;49m\u001B[38;5;241;43m.\u001B[39;49m\u001B[43m_do_wait_suspend\u001B[49m\u001B[43m(\u001B[49m\u001B[43mthread\u001B[49m\u001B[43m,\u001B[49m\u001B[43m \u001B[49m\u001B[43mframe\u001B[49m\u001B[43m,\u001B[49m\u001B[43m \u001B[49m\u001B[43mevent\u001B[49m\u001B[43m,\u001B[49m\u001B[43m \u001B[49m\u001B[43marg\u001B[49m\u001B[43m,\u001B[49m\u001B[43m \u001B[49m\u001B[43msuspend_type\u001B[49m\u001B[43m,\u001B[49m\u001B[43m \u001B[49m\u001B[43mfrom_this_thread\u001B[49m\u001B[43m)\u001B[49m\n",
      "File \u001B[1;32mC:\\Program Files\\JetBrains\\PyCharm 2023.2.3\\plugins\\python\\helpers\\pydev\\pydevd.py:1175\u001B[0m, in \u001B[0;36mPyDB._do_wait_suspend\u001B[1;34m(self, thread, frame, event, arg, suspend_type, from_this_thread)\u001B[0m\n\u001B[0;32m   1172\u001B[0m             \u001B[38;5;28mself\u001B[39m\u001B[38;5;241m.\u001B[39m_call_mpl_hook()\n\u001B[0;32m   1174\u001B[0m         \u001B[38;5;28mself\u001B[39m\u001B[38;5;241m.\u001B[39mprocess_internal_commands()\n\u001B[1;32m-> 1175\u001B[0m         \u001B[43mtime\u001B[49m\u001B[38;5;241;43m.\u001B[39;49m\u001B[43msleep\u001B[49m\u001B[43m(\u001B[49m\u001B[38;5;241;43m0.01\u001B[39;49m\u001B[43m)\u001B[49m\n\u001B[0;32m   1177\u001B[0m \u001B[38;5;28mself\u001B[39m\u001B[38;5;241m.\u001B[39mcancel_async_evaluation(get_current_thread_id(thread), \u001B[38;5;28mstr\u001B[39m(\u001B[38;5;28mid\u001B[39m(frame)))\n\u001B[0;32m   1179\u001B[0m \u001B[38;5;66;03m# process any stepping instructions\u001B[39;00m\n",
      "\u001B[1;31mKeyboardInterrupt\u001B[0m: "
     ]
    }
   ],
   "source": [
    "def get_all_images():\n",
    "    result = []\n",
    "    for i, path in enumerate(paths):\n",
    "        for j in glob.glob(f\"{path}/*.*\"):\n",
    "            try:\n",
    "                with Image.open(j) as img:\n",
    "                    result.append((np.array(img), i))\n",
    "            except Exception as e:\n",
    "                pass\n",
    "    return result\n",
    "image_list = get_all_images()\n",
    "print(\"dfs\")"
   ]
  },
  {
   "cell_type": "code",
   "execution_count": 42,
   "id": "f036052f05bc9ea0",
   "metadata": {
    "scrolled": true,
    "ExecuteTime": {
     "end_time": "2025-05-05T00:45:03.092321400Z",
     "start_time": "2025-05-05T00:43:59.140578500Z"
    }
   },
   "outputs": [
    {
     "ename": "MemoryError",
     "evalue": "Unable to allocate 21.8 GiB for an array with shape (2932212512,) and data type float64",
     "output_type": "error",
     "traceback": [
      "\u001B[1;31m---------------------------------------------------------------------------\u001B[0m",
      "\u001B[1;31mMemoryError\u001B[0m                               Traceback (most recent call last)",
      "Cell \u001B[1;32mIn[42], line 9\u001B[0m\n\u001B[0;32m      6\u001B[0m \u001B[38;5;28;01mdef\u001B[39;00m\u001B[38;5;250m \u001B[39m\u001B[38;5;21mnormalization\u001B[39m(dataset):\n\u001B[0;32m      7\u001B[0m     \u001B[38;5;28;01mreturn\u001B[39;00m [(image \u001B[38;5;241m/\u001B[39m \u001B[38;5;241m255.0\u001B[39m, label) \u001B[38;5;28;01mfor\u001B[39;00m image, label \u001B[38;5;129;01min\u001B[39;00m image_list]\n\u001B[1;32m----> 9\u001B[0m display(\u001B[43mstandardization\u001B[49m\u001B[43m(\u001B[49m\u001B[43mimage_list\u001B[49m\u001B[43m)\u001B[49m)\n",
      "Cell \u001B[1;32mIn[42], line 3\u001B[0m, in \u001B[0;36mstandardization\u001B[1;34m(dataset)\u001B[0m\n\u001B[0;32m      1\u001B[0m \u001B[38;5;28;01mdef\u001B[39;00m\u001B[38;5;250m \u001B[39m\u001B[38;5;21mstandardization\u001B[39m(dataset):\n\u001B[0;32m      2\u001B[0m     mean \u001B[38;5;241m=\u001B[39m np\u001B[38;5;241m.\u001B[39mmean((np\u001B[38;5;241m.\u001B[39mconcatenate([arr\u001B[38;5;241m.\u001B[39mflatten() \u001B[38;5;28;01mfor\u001B[39;00m arr \u001B[38;5;129;01min\u001B[39;00m [i \u001B[38;5;28;01mfor\u001B[39;00m i,j \u001B[38;5;129;01min\u001B[39;00m image_list]])))\n\u001B[1;32m----> 3\u001B[0m     std \u001B[38;5;241m=\u001B[39m \u001B[43mnp\u001B[49m\u001B[38;5;241;43m.\u001B[39;49m\u001B[43mstd\u001B[49m\u001B[43m(\u001B[49m\u001B[43m(\u001B[49m\u001B[43mnp\u001B[49m\u001B[38;5;241;43m.\u001B[39;49m\u001B[43mconcatenate\u001B[49m\u001B[43m(\u001B[49m\u001B[43m[\u001B[49m\u001B[43marr\u001B[49m\u001B[38;5;241;43m.\u001B[39;49m\u001B[43mflatten\u001B[49m\u001B[43m(\u001B[49m\u001B[43m)\u001B[49m\u001B[43m \u001B[49m\u001B[38;5;28;43;01mfor\u001B[39;49;00m\u001B[43m \u001B[49m\u001B[43marr\u001B[49m\u001B[43m \u001B[49m\u001B[38;5;129;43;01min\u001B[39;49;00m\u001B[43m \u001B[49m\u001B[43m[\u001B[49m\u001B[43mi\u001B[49m\u001B[43m \u001B[49m\u001B[38;5;28;43;01mfor\u001B[39;49;00m\u001B[43m \u001B[49m\u001B[43mi\u001B[49m\u001B[43m,\u001B[49m\u001B[43mj\u001B[49m\u001B[43m \u001B[49m\u001B[38;5;129;43;01min\u001B[39;49;00m\u001B[43m \u001B[49m\u001B[43mimage_list\u001B[49m\u001B[43m]\u001B[49m\u001B[43m]\u001B[49m\u001B[43m)\u001B[49m\u001B[43m)\u001B[49m\u001B[43m)\u001B[49m\n\u001B[0;32m      4\u001B[0m     \u001B[38;5;28;01mreturn\u001B[39;00m [((image \u001B[38;5;241m-\u001B[39m mean) \u001B[38;5;241m/\u001B[39m std,label) \u001B[38;5;28;01mfor\u001B[39;00m image, label \u001B[38;5;129;01min\u001B[39;00m image_list]\n",
      "File \u001B[1;32mC:\\Pliki\\studia\\sem1\\szum\\Lab-S-Z-U-M-Name-Not-Searchable\\venv\\Lib\\site-packages\\numpy\\_core\\fromnumeric.py:3802\u001B[0m, in \u001B[0;36mstd\u001B[1;34m(a, axis, dtype, out, ddof, keepdims, where, mean, correction)\u001B[0m\n\u001B[0;32m   3799\u001B[0m     \u001B[38;5;28;01melse\u001B[39;00m:\n\u001B[0;32m   3800\u001B[0m         \u001B[38;5;28;01mreturn\u001B[39;00m std(axis\u001B[38;5;241m=\u001B[39maxis, dtype\u001B[38;5;241m=\u001B[39mdtype, out\u001B[38;5;241m=\u001B[39mout, ddof\u001B[38;5;241m=\u001B[39mddof, \u001B[38;5;241m*\u001B[39m\u001B[38;5;241m*\u001B[39mkwargs)\n\u001B[1;32m-> 3802\u001B[0m \u001B[38;5;28;01mreturn\u001B[39;00m \u001B[43m_methods\u001B[49m\u001B[38;5;241;43m.\u001B[39;49m\u001B[43m_std\u001B[49m\u001B[43m(\u001B[49m\u001B[43ma\u001B[49m\u001B[43m,\u001B[49m\u001B[43m \u001B[49m\u001B[43maxis\u001B[49m\u001B[38;5;241;43m=\u001B[39;49m\u001B[43maxis\u001B[49m\u001B[43m,\u001B[49m\u001B[43m \u001B[49m\u001B[43mdtype\u001B[49m\u001B[38;5;241;43m=\u001B[39;49m\u001B[43mdtype\u001B[49m\u001B[43m,\u001B[49m\u001B[43m \u001B[49m\u001B[43mout\u001B[49m\u001B[38;5;241;43m=\u001B[39;49m\u001B[43mout\u001B[49m\u001B[43m,\u001B[49m\u001B[43m \u001B[49m\u001B[43mddof\u001B[49m\u001B[38;5;241;43m=\u001B[39;49m\u001B[43mddof\u001B[49m\u001B[43m,\u001B[49m\n\u001B[0;32m   3803\u001B[0m \u001B[43m                     \u001B[49m\u001B[38;5;241;43m*\u001B[39;49m\u001B[38;5;241;43m*\u001B[39;49m\u001B[43mkwargs\u001B[49m\u001B[43m)\u001B[49m\n",
      "File \u001B[1;32mC:\\Pliki\\studia\\sem1\\szum\\Lab-S-Z-U-M-Name-Not-Searchable\\venv\\Lib\\site-packages\\numpy\\_core\\_methods.py:218\u001B[0m, in \u001B[0;36m_std\u001B[1;34m(a, axis, dtype, out, ddof, keepdims, where, mean)\u001B[0m\n\u001B[0;32m    216\u001B[0m \u001B[38;5;28;01mdef\u001B[39;00m\u001B[38;5;250m \u001B[39m\u001B[38;5;21m_std\u001B[39m(a, axis\u001B[38;5;241m=\u001B[39m\u001B[38;5;28;01mNone\u001B[39;00m, dtype\u001B[38;5;241m=\u001B[39m\u001B[38;5;28;01mNone\u001B[39;00m, out\u001B[38;5;241m=\u001B[39m\u001B[38;5;28;01mNone\u001B[39;00m, ddof\u001B[38;5;241m=\u001B[39m\u001B[38;5;241m0\u001B[39m, keepdims\u001B[38;5;241m=\u001B[39m\u001B[38;5;28;01mFalse\u001B[39;00m, \u001B[38;5;241m*\u001B[39m,\n\u001B[0;32m    217\u001B[0m          where\u001B[38;5;241m=\u001B[39m\u001B[38;5;28;01mTrue\u001B[39;00m, mean\u001B[38;5;241m=\u001B[39m\u001B[38;5;28;01mNone\u001B[39;00m):\n\u001B[1;32m--> 218\u001B[0m     ret \u001B[38;5;241m=\u001B[39m \u001B[43m_var\u001B[49m\u001B[43m(\u001B[49m\u001B[43ma\u001B[49m\u001B[43m,\u001B[49m\u001B[43m \u001B[49m\u001B[43maxis\u001B[49m\u001B[38;5;241;43m=\u001B[39;49m\u001B[43maxis\u001B[49m\u001B[43m,\u001B[49m\u001B[43m \u001B[49m\u001B[43mdtype\u001B[49m\u001B[38;5;241;43m=\u001B[39;49m\u001B[43mdtype\u001B[49m\u001B[43m,\u001B[49m\u001B[43m \u001B[49m\u001B[43mout\u001B[49m\u001B[38;5;241;43m=\u001B[39;49m\u001B[43mout\u001B[49m\u001B[43m,\u001B[49m\u001B[43m \u001B[49m\u001B[43mddof\u001B[49m\u001B[38;5;241;43m=\u001B[39;49m\u001B[43mddof\u001B[49m\u001B[43m,\u001B[49m\n\u001B[0;32m    219\u001B[0m \u001B[43m               \u001B[49m\u001B[43mkeepdims\u001B[49m\u001B[38;5;241;43m=\u001B[39;49m\u001B[43mkeepdims\u001B[49m\u001B[43m,\u001B[49m\u001B[43m \u001B[49m\u001B[43mwhere\u001B[49m\u001B[38;5;241;43m=\u001B[39;49m\u001B[43mwhere\u001B[49m\u001B[43m,\u001B[49m\u001B[43m \u001B[49m\u001B[43mmean\u001B[49m\u001B[38;5;241;43m=\u001B[39;49m\u001B[43mmean\u001B[49m\u001B[43m)\u001B[49m\n\u001B[0;32m    221\u001B[0m     \u001B[38;5;28;01mif\u001B[39;00m \u001B[38;5;28misinstance\u001B[39m(ret, mu\u001B[38;5;241m.\u001B[39mndarray):\n\u001B[0;32m    222\u001B[0m         ret \u001B[38;5;241m=\u001B[39m um\u001B[38;5;241m.\u001B[39msqrt(ret, out\u001B[38;5;241m=\u001B[39mret)\n",
      "File \u001B[1;32mC:\\Pliki\\studia\\sem1\\szum\\Lab-S-Z-U-M-Name-Not-Searchable\\venv\\Lib\\site-packages\\numpy\\_core\\_methods.py:185\u001B[0m, in \u001B[0;36m_var\u001B[1;34m(a, axis, dtype, out, ddof, keepdims, where, mean)\u001B[0m\n\u001B[0;32m    180\u001B[0m         arrmean \u001B[38;5;241m=\u001B[39m arrmean \u001B[38;5;241m/\u001B[39m rcount\n\u001B[0;32m    182\u001B[0m \u001B[38;5;66;03m# Compute sum of squared deviations from mean\u001B[39;00m\n\u001B[0;32m    183\u001B[0m \u001B[38;5;66;03m# Note that x may not be inexact and that we need it to be an array,\u001B[39;00m\n\u001B[0;32m    184\u001B[0m \u001B[38;5;66;03m# not a scalar.\u001B[39;00m\n\u001B[1;32m--> 185\u001B[0m x \u001B[38;5;241m=\u001B[39m asanyarray(\u001B[43marr\u001B[49m\u001B[43m \u001B[49m\u001B[38;5;241;43m-\u001B[39;49m\u001B[43m \u001B[49m\u001B[43marrmean\u001B[49m)\n\u001B[0;32m    187\u001B[0m \u001B[38;5;28;01mif\u001B[39;00m \u001B[38;5;28missubclass\u001B[39m(arr\u001B[38;5;241m.\u001B[39mdtype\u001B[38;5;241m.\u001B[39mtype, (nt\u001B[38;5;241m.\u001B[39mfloating, nt\u001B[38;5;241m.\u001B[39minteger)):\n\u001B[0;32m    188\u001B[0m     x \u001B[38;5;241m=\u001B[39m um\u001B[38;5;241m.\u001B[39mmultiply(x, x, out\u001B[38;5;241m=\u001B[39mx)\n",
      "\u001B[1;31mMemoryError\u001B[0m: Unable to allocate 21.8 GiB for an array with shape (2932212512,) and data type float64"
     ]
    }
   ],
   "source": [
    "def standardization(dataset):\n",
    "    mean = np.mean((np.concatenate([arr.flatten() for arr in [i for i,j in dataset]])))\n",
    "    std = np.std((np.concatenate([arr.flatten() for arr in [i for i,j in dataset]])))\n",
    "    return [((image - mean) / std,label) for image, label in dataset]\n",
    "\n"
   ]
  },
  {
   "cell_type": "code",
   "execution_count": 11,
   "outputs": [],
   "source": [
    "def normalization(dataset):\n",
    "    normalized_dataset = []\n",
    "    for image, label in dataset:\n",
    "        normalized_image = (image / 255.0).astype(np.float32)\n",
    "        normalized_dataset.append((normalized_image, label))\n",
    "    return normalized_dataset"
   ],
   "metadata": {
    "collapsed": false,
    "ExecuteTime": {
     "end_time": "2025-05-06T00:41:16.412893200Z",
     "start_time": "2025-05-06T00:41:16.367004100Z"
    }
   },
   "id": "e0efe216c5d16658"
  },
  {
   "cell_type": "code",
   "execution_count": 59,
   "id": "99fa5529e144da94",
   "metadata": {
    "ExecuteTime": {
     "end_time": "2025-05-06T04:57:51.121578900Z",
     "start_time": "2025-05-06T04:57:41.054025100Z"
    }
   },
   "outputs": [
    {
     "ename": "KeyboardInterrupt",
     "evalue": "",
     "output_type": "error",
     "traceback": [
      "\u001B[1;31m---------------------------------------------------------------------------\u001B[0m",
      "\u001B[1;31mKeyboardInterrupt\u001B[0m                         Traceback (most recent call last)",
      "Cell \u001B[1;32mIn[59], line 26\u001B[0m\n\u001B[0;32m     23\u001B[0m     \u001B[38;5;28;01mreturn\u001B[39;00m train_set, val_set, test_set\n\u001B[0;32m     25\u001B[0m s\u001B[38;5;241m=\u001B[39mcreate_split(image_list)\n\u001B[1;32m---> 26\u001B[0m \u001B[38;5;28mprint\u001B[39m(\u001B[38;5;124m\"\u001B[39m\u001B[38;5;124mfgsd\u001B[39m\u001B[38;5;124m\"\u001B[39m)\n",
      "File \u001B[1;32m_pydevd_bundle\\\\pydevd_cython_win32_312_64.pyx:1179\u001B[0m, in \u001B[0;36m_pydevd_bundle.pydevd_cython_win32_312_64.SafeCallWrapper.__call__\u001B[1;34m()\u001B[0m\n",
      "File \u001B[1;32m_pydevd_bundle\\\\pydevd_cython_win32_312_64.pyx:620\u001B[0m, in \u001B[0;36m_pydevd_bundle.pydevd_cython_win32_312_64.PyDBFrame.trace_dispatch\u001B[1;34m()\u001B[0m\n",
      "File \u001B[1;32m_pydevd_bundle\\\\pydevd_cython_win32_312_64.pyx:929\u001B[0m, in \u001B[0;36m_pydevd_bundle.pydevd_cython_win32_312_64.PyDBFrame.trace_dispatch\u001B[1;34m()\u001B[0m\n",
      "File \u001B[1;32m_pydevd_bundle\\\\pydevd_cython_win32_312_64.pyx:920\u001B[0m, in \u001B[0;36m_pydevd_bundle.pydevd_cython_win32_312_64.PyDBFrame.trace_dispatch\u001B[1;34m()\u001B[0m\n",
      "File \u001B[1;32m_pydevd_bundle\\\\pydevd_cython_win32_312_64.pyx:317\u001B[0m, in \u001B[0;36m_pydevd_bundle.pydevd_cython_win32_312_64.PyDBFrame.do_wait_suspend\u001B[1;34m()\u001B[0m\n",
      "File \u001B[1;32mC:\\Program Files\\JetBrains\\PyCharm 2023.2.3\\plugins\\python\\helpers\\pydev\\pydevd.py:1160\u001B[0m, in \u001B[0;36mPyDB.do_wait_suspend\u001B[1;34m(self, thread, frame, event, arg, send_suspend_message, is_unhandled_exception)\u001B[0m\n\u001B[0;32m   1157\u001B[0m         from_this_thread\u001B[38;5;241m.\u001B[39mappend(frame_id)\n\u001B[0;32m   1159\u001B[0m \u001B[38;5;28;01mwith\u001B[39;00m \u001B[38;5;28mself\u001B[39m\u001B[38;5;241m.\u001B[39m_threads_suspended_single_notification\u001B[38;5;241m.\u001B[39mnotify_thread_suspended(thread_id, stop_reason):\n\u001B[1;32m-> 1160\u001B[0m     \u001B[38;5;28;43mself\u001B[39;49m\u001B[38;5;241;43m.\u001B[39;49m\u001B[43m_do_wait_suspend\u001B[49m\u001B[43m(\u001B[49m\u001B[43mthread\u001B[49m\u001B[43m,\u001B[49m\u001B[43m \u001B[49m\u001B[43mframe\u001B[49m\u001B[43m,\u001B[49m\u001B[43m \u001B[49m\u001B[43mevent\u001B[49m\u001B[43m,\u001B[49m\u001B[43m \u001B[49m\u001B[43marg\u001B[49m\u001B[43m,\u001B[49m\u001B[43m \u001B[49m\u001B[43msuspend_type\u001B[49m\u001B[43m,\u001B[49m\u001B[43m \u001B[49m\u001B[43mfrom_this_thread\u001B[49m\u001B[43m)\u001B[49m\n",
      "File \u001B[1;32mC:\\Program Files\\JetBrains\\PyCharm 2023.2.3\\plugins\\python\\helpers\\pydev\\pydevd.py:1175\u001B[0m, in \u001B[0;36mPyDB._do_wait_suspend\u001B[1;34m(self, thread, frame, event, arg, suspend_type, from_this_thread)\u001B[0m\n\u001B[0;32m   1172\u001B[0m             \u001B[38;5;28mself\u001B[39m\u001B[38;5;241m.\u001B[39m_call_mpl_hook()\n\u001B[0;32m   1174\u001B[0m         \u001B[38;5;28mself\u001B[39m\u001B[38;5;241m.\u001B[39mprocess_internal_commands()\n\u001B[1;32m-> 1175\u001B[0m         \u001B[43mtime\u001B[49m\u001B[38;5;241;43m.\u001B[39;49m\u001B[43msleep\u001B[49m\u001B[43m(\u001B[49m\u001B[38;5;241;43m0.01\u001B[39;49m\u001B[43m)\u001B[49m\n\u001B[0;32m   1177\u001B[0m \u001B[38;5;28mself\u001B[39m\u001B[38;5;241m.\u001B[39mcancel_async_evaluation(get_current_thread_id(thread), \u001B[38;5;28mstr\u001B[39m(\u001B[38;5;28mid\u001B[39m(frame)))\n\u001B[0;32m   1179\u001B[0m \u001B[38;5;66;03m# process any stepping instructions\u001B[39;00m\n",
      "\u001B[1;31mKeyboardInterrupt\u001B[0m: "
     ]
    }
   ],
   "source": [
    "import random\n",
    "\n",
    "\n",
    "def create_split(dataset):\n",
    "    label_0 = [item for item in dataset if item[1] == 0]\n",
    "    label_1 = [item for item in dataset if item[1] == 1]\n",
    "    label_2 = [item for item in dataset if item[1] == 2]\n",
    "    \n",
    "    def split_group(group):\n",
    "        random.shuffle(group)\n",
    "        train = group[:int(len(group)*0.8)]\n",
    "        val = group[int(len(group)*0.8):int(len(group)*0.9)]\n",
    "        test = group[int(len(group)*0.9):]\n",
    "        return train, val, test\n",
    "    \n",
    "    train_0, val_0, test_0 = split_group(label_0)\n",
    "    train_1, val_1, test_1 = split_group(label_1)\n",
    "    train_2, val_2, test_2 = split_group(label_2)\n",
    "    \n",
    "    train_set = train_0 + train_1 + train_2\n",
    "    val_set = val_0 + val_1 + val_2\n",
    "    test_set = test_0 + test_1 + test_2\n",
    "    \n",
    "    return train_set, val_set, test_set\n",
    "\n"
   ]
  },
  {
   "cell_type": "code",
   "execution_count": 34,
   "id": "cfefc339830c433c",
   "metadata": {
    "ExecuteTime": {
     "end_time": "2025-05-05T00:23:34.709056800Z",
     "start_time": "2025-05-05T00:22:01.742619400Z"
    }
   },
   "outputs": [
    {
     "name": "stdout",
     "output_type": "stream",
     "text": [
      "Found 13798 images belonging to 1 classes.\n"
     ]
    }
   ],
   "source": [
    "datagen = ImageDataGenerator(\n",
    "    rotation_range=20,\n",
    "    width_shift_range=0.1,\n",
    "    height_shift_range=0.1,\n",
    "    zoom_range=0.2,\n",
    "    horizontal_flip=True,\n",
    "    brightness_range=[0.8, 1.2],\n",
    "    shear_range=0.2,\n",
    "    fill_mode='nearest'\n",
    ")\n",
    "for path in paths:\n",
    "    try:\n",
    "        os.mkdir(f\"{path}/augmented\")\n",
    "        i = 0\n",
    "        gen = datagen.flow_from_directory(path, save_to_dir=path+'/augmented',classes=['.'], batch_size=1)\n",
    "        for i in range(1060*5):\n",
    "            next(gen)\n",
    "    except FileExistsError:\n",
    "        pass"
   ]
  },
  {
   "cell_type": "code",
   "execution_count": 61,
   "id": "2a7acacd3b26e428",
   "metadata": {
    "ExecuteTime": {
     "end_time": "2025-05-06T05:13:58.776876900Z",
     "start_time": "2025-05-06T05:13:58.738255700Z"
    }
   },
   "outputs": [],
   "source": [
    "def create_split_2(dataset):\n",
    "    label_0 = [item for item in dataset if item[1] == 0]\n",
    "    label_1 = [item for item in dataset if item[1] == 1]\n",
    "    label_2 = [item for item in dataset if item[1] == 2]\n",
    "    \n",
    "    def split_group(group):\n",
    "        random.shuffle(group)\n",
    "        group = group[:1060]\n",
    "        \n",
    "        train = group[:int(len(group)*0.8)]\n",
    "        val = group[int(len(group)*0.8):int(len(group)*0.9)]\n",
    "        test = group[int(len(group)*0.9):]\n",
    "        return train, val, test\n",
    "    \n",
    "    train_0, val_0, test_0 = split_group(label_0)\n",
    "    train_1, val_1, test_1 = split_group(label_1)\n",
    "    train_2, val_2, test_2 = split_group(label_2)\n",
    "    \n",
    "    train_set = train_0 + train_1 + train_2\n",
    "    val_set = val_0 + val_1 + val_2\n",
    "    test_set = test_0 + test_1 + test_2\n",
    "    \n",
    "    return train_set, val_set, test_set"
   ]
  },
  {
   "cell_type": "code",
   "execution_count": 79,
   "id": "eb77e662fad9c34a",
   "metadata": {
    "ExecuteTime": {
     "end_time": "2025-05-06T09:32:37.620422800Z",
     "start_time": "2025-05-06T09:32:37.586506900Z"
    }
   },
   "outputs": [],
   "source": [
    "def create_split_3(dataset):\n",
    "    label_0 = [item for item in dataset if item[1] == 0]\n",
    "    label_1 = [item for item in dataset if item[1] == 1]\n",
    "    label_2 = [item for item in dataset if item[1] == 2]\n",
    "    \n",
    "    def split_group(group):\n",
    "        random.shuffle(group)\n",
    "        group = group[:1060]\n",
    "        \n",
    "        train = group[:int(len(group)*0.8)]\n",
    "        val = group[int(len(group)*0.7):int(len(group)*0.8)]\n",
    "        test = group[int(len(group)*0.9):]\n",
    "        return train, val, test\n",
    "    \n",
    "    train_0, val_0, test_0 = split_group(label_0)\n",
    "    train_1, val_1, test_1 = split_group(label_1)\n",
    "    train_2, val_2, test_2 = split_group(label_2)\n",
    "    \n",
    "    train_set = train_0 + train_1 + train_2\n",
    "    val_set = val_0 + val_1 + val_2\n",
    "    test_set = test_0 + test_1 + test_2\n",
    "    \n",
    "    return train_set, val_set, test_set\n"
   ]
  },
  {
   "cell_type": "code",
   "execution_count": 20,
   "id": "3e722ebd39b4af3d",
   "metadata": {
    "collapsed": false,
    "ExecuteTime": {
     "end_time": "2025-05-06T01:26:20.985232600Z",
     "start_time": "2025-05-06T01:26:20.943249700Z"
    }
   },
   "outputs": [],
   "source": [
    "import torch\n",
    "from torch.utils.data import DataLoader, Dataset\n",
    "from torchvision import transforms\n",
    "from PIL import Image\n",
    "import numpy as np\n",
    "\n",
    "NUM_CLASSES = 3\n",
    "BATCH_SIZE = 32\n",
    "LEARNING_RATE = 1e-4\n",
    "MODEL_NAME = \"efficientnet_b0\"\n",
    "\n",
    "device = torch.device(\"cuda\" if torch.cuda.is_available() else \"cpu\")\n",
    "\n",
    "class CustomDataset(Dataset):\n",
    "    def __init__(self, data, transform=None):\n",
    "        self.data = data\n",
    "        self.transform = transform\n",
    "\n",
    "    def __len__(self):\n",
    "        return len(self.data)\n",
    "    \n",
    "    def __getitem__(self, idx):\n",
    "        image, label = self.data[idx]\n",
    "        image = Image.fromarray(image).convert(\"RGB\")\n",
    "        if self.transform:\n",
    "            image = self.transform(image)\n",
    "        return image, label"
   ]
  },
  {
   "cell_type": "code",
   "execution_count": 77,
   "id": "b5d254321af5328b",
   "metadata": {
    "collapsed": false,
    "ExecuteTime": {
     "end_time": "2025-05-06T09:31:17.051623400Z",
     "start_time": "2025-05-06T09:31:17.004103200Z"
    }
   },
   "outputs": [],
   "source": [
    "import timm\n",
    "import torch.nn as nn\n",
    "import torch.optim as optim\n",
    "from tqdm import tqdm\n",
    "import matplotlib.pyplot as plt\n",
    "\n",
    "def train_and_validate(split_name, train_set, val_set, save_path, num_epochs, normalize):\n",
    "    if normalize:\n",
    "        transform = transforms.Compose([\n",
    "            transforms.Resize((224, 224)),\n",
    "            transforms.RandomAffine(\n",
    "                degrees=20,\n",
    "                translate=(0.1, 0.1),\n",
    "                scale=(0.8, 1.2), \n",
    "                shear=0.2\n",
    "            ),\n",
    "            transforms.RandomHorizontalFlip(p=0.5),\n",
    "            transforms.ColorJitter(brightness=0.2),\n",
    "            transforms.ToTensor(),\n",
    "            transforms.Normalize(mean=[0.485, 0.456, 0.406], \n",
    "                         std=[0.229, 0.224, 0.225])\n",
    "        ])\n",
    "    else:\n",
    "        transform = transforms.Compose([\n",
    "            transforms.Resize((224, 224)),\n",
    "            transforms.Lambda(lambda x: torch.from_numpy(np.array(x)).permute(2, 0, 1).float())\n",
    "        ])\n",
    "    train_dataset = CustomDataset(train_set, transform=transform)\n",
    "    val_dataset = CustomDataset(val_set, transform=transform)\n",
    "    train_loader = DataLoader(train_dataset, batch_size=BATCH_SIZE, shuffle=True)\n",
    "    val_loader = DataLoader(val_dataset, batch_size=BATCH_SIZE)\n",
    "    print(len(train_loader.dataset))\n",
    "    print(len(val_loader.dataset))\n",
    "\n",
    "    model = timm.create_model(MODEL_NAME, pretrained=True, num_classes=NUM_CLASSES)\n",
    "    model = model.to(device)\n",
    "    criterion = nn.CrossEntropyLoss()\n",
    "    optimizer = optim.Adam(model.parameters(), lr=LEARNING_RATE)\n",
    "\n",
    "    train_losses, val_losses = [], []\n",
    "    best_val_loss = float(\"inf\")\n",
    "    best_model_state = None\n",
    "\n",
    "    for epoch in range(num_epochs):\n",
    "        model.train()\n",
    "        running_loss = 0.0\n",
    "        running_corrects = 0\n",
    "        for inputs, labels in tqdm(train_loader, desc=f\"[{split_name}] Epoch {epoch+1}/{num_epochs}\"):\n",
    "            inputs = inputs.to(device)\n",
    "            labels = labels.to(device)\n",
    "\n",
    "            optimizer.zero_grad()\n",
    "\n",
    "            outputs = model(inputs)\n",
    "            _, preds = torch.max(outputs, 1)\n",
    "            loss = criterion(outputs, labels)\n",
    "            loss.backward()\n",
    "            optimizer.step()\n",
    "            running_loss += loss.item() * inputs.size(0)\n",
    "            running_corrects += torch.sum(preds == labels.data)\n",
    "\n",
    "        train_loss = running_loss / len(train_loader.dataset)\n",
    "        train_acc = running_corrects.float() / len(train_loader.dataset)\n",
    "        train_losses.append(train_loss)\n",
    "\n",
    "        model.eval()\n",
    "        running_loss = 0.0\n",
    "        running_corrects = 0\n",
    "        with torch.no_grad():\n",
    "            for inputs, labels in val_loader:\n",
    "                inputs = inputs.to(device)\n",
    "                labels = labels.to(device)\n",
    "\n",
    "                outputs = model(inputs)\n",
    "                _, preds = torch.max(outputs, 1)\n",
    "                loss = criterion(outputs, labels)\n",
    "                running_loss += loss.item() * inputs.size(0)\n",
    "                running_corrects += torch.sum(preds == labels.data)\n",
    "\n",
    "        val_loss = running_loss / len(val_loader.dataset)\n",
    "        val_acc = running_corrects.float() / len(val_loader.dataset)\n",
    "        val_losses.append(val_loss)\n",
    "        \n",
    "        print(f\"[{split_name}] Epoch {epoch+1}: Train Loss = {train_loss:.4f}, Train Acc: {train_acc:.4f}, Val Loss = {val_loss:.4f}, Val Acc = {val_acc:.4f}\")\n",
    "\n",
    "        if val_loss < best_val_loss:\n",
    "            best_val_loss = val_loss\n",
    "            best_model_state = model.state_dict()\n",
    "\n",
    "    torch.save(best_model_state, save_path)\n",
    "    print(f\"[{split_name}] Saved best model to {save_path} with Val Loss: {best_val_loss:.4f}\")\n",
    "\n",
    "    epochs = range(1, len(train_losses) + 1)  # Lista epok zaczynająca się od 1\n",
    "    \n",
    "    plt.figure(figsize=(10, 5))\n",
    "    plt.plot(epochs, train_losses, label='Train Loss')\n",
    "    plt.plot(epochs, val_losses, label='Validation Loss')\n",
    "    plt.xlabel(\"Epoch\")\n",
    "    plt.ylabel(\"Loss\")\n",
    "    plt.legend()\n",
    "    plt.title(f\"{split_name} - Loss Curve\")\n",
    "    plt.grid(True)\n",
    "    plt.show()\n",
    "    \n",
    "    "
   ]
  },
  {
   "cell_type": "code",
   "execution_count": 76,
   "id": "56fad1f31ac4b571",
   "metadata": {
    "collapsed": false,
    "ExecuteTime": {
     "end_time": "2025-05-06T07:52:23.368380600Z",
     "start_time": "2025-05-06T06:52:35.565551600Z"
    }
   },
   "outputs": [
    {
     "name": "stdout",
     "output_type": "stream",
     "text": [
      "8980\n",
      "1123\n"
     ]
    },
    {
     "name": "stderr",
     "output_type": "stream",
     "text": [
      "[SPLIT1] Epoch 1/3: 100%|██████████| 281/281 [19:04<00:00,  4.07s/it]\n"
     ]
    },
    {
     "name": "stdout",
     "output_type": "stream",
     "text": [
      "[SPLIT1] Epoch 1: Train Loss = 0.3165, Train Acc: 0.9189, Val Loss = 0.2446, Val Acc = 0.9118\n"
     ]
    },
    {
     "name": "stderr",
     "output_type": "stream",
     "text": [
      "[SPLIT1] Epoch 2/3: 100%|██████████| 281/281 [19:22<00:00,  4.14s/it]\n"
     ]
    },
    {
     "name": "stdout",
     "output_type": "stream",
     "text": [
      "[SPLIT1] Epoch 2: Train Loss = 0.0445, Train Acc: 0.9840, Val Loss = 0.2625, Val Acc = 0.9199\n"
     ]
    },
    {
     "name": "stderr",
     "output_type": "stream",
     "text": [
      "[SPLIT1] Epoch 3/3: 100%|██████████| 281/281 [19:21<00:00,  4.13s/it]\n"
     ]
    },
    {
     "name": "stdout",
     "output_type": "stream",
     "text": [
      "[SPLIT1] Epoch 3: Train Loss = 0.0210, Train Acc: 0.9934, Val Loss = 0.2838, Val Acc = 0.9172\n",
      "[SPLIT1] Saved best model to MODEL1.pth with Val Loss: 0.2446\n"
     ]
    },
    {
     "data": {
      "text/plain": "<Figure size 1000x500 with 1 Axes>",
      "image/png": "[encoded data removed]"
     },
     "metadata": {},
     "output_type": "display_data"
    }
   ],
   "source": [
    "train1, val1, _ = create_split(image_list)\n",
    "train_and_validate(\"SPLIT1\", train1, val1, \"MODEL1.pth\", 3, False)"
   ]
  },
  {
   "cell_type": "code",
   "execution_count": 73,
   "id": "a1b80caba520974f",
   "metadata": {
    "collapsed": false,
    "ExecuteTime": {
     "end_time": "2025-05-06T06:24:44.662746800Z",
     "start_time": "2025-05-06T05:56:57.726072400Z"
    }
   },
   "outputs": [
    {
     "name": "stdout",
     "output_type": "stream",
     "text": [
      "2544\n",
      "318\n"
     ]
    },
    {
     "name": "stderr",
     "output_type": "stream",
     "text": [
      "[SPLIT2 - without] Epoch 1/5: 100%|██████████| 80/80 [05:42<00:00,  4.28s/it]\n"
     ]
    },
    {
     "name": "stdout",
     "output_type": "stream",
     "text": [
      "[SPLIT2 - without] Epoch 1: Train Loss = 1.1981, Train Acc: 0.7028, Val Loss = 0.9151, Val Acc = 0.7610\n"
     ]
    },
    {
     "name": "stderr",
     "output_type": "stream",
     "text": [
      "[SPLIT2 - without] Epoch 2/5: 100%|██████████| 80/80 [05:24<00:00,  4.06s/it]\n"
     ]
    },
    {
     "name": "stdout",
     "output_type": "stream",
     "text": [
      "[SPLIT2 - without] Epoch 2: Train Loss = 0.4570, Train Acc: 0.8494, Val Loss = 0.7997, Val Acc = 0.7862\n"
     ]
    },
    {
     "name": "stderr",
     "output_type": "stream",
     "text": [
      "[SPLIT2 - without] Epoch 3/5: 100%|██████████| 80/80 [05:12<00:00,  3.91s/it]\n"
     ]
    },
    {
     "name": "stdout",
     "output_type": "stream",
     "text": [
      "[SPLIT2 - without] Epoch 3: Train Loss = 0.2921, Train Acc: 0.8958, Val Loss = 0.6965, Val Acc = 0.8270\n"
     ]
    },
    {
     "name": "stderr",
     "output_type": "stream",
     "text": [
      "[SPLIT2 - without] Epoch 4/5: 100%|██████████| 80/80 [05:15<00:00,  3.94s/it]\n"
     ]
    },
    {
     "name": "stdout",
     "output_type": "stream",
     "text": [
      "[SPLIT2 - without] Epoch 4: Train Loss = 0.2252, Train Acc: 0.9218, Val Loss = 0.6644, Val Acc = 0.8019\n"
     ]
    },
    {
     "name": "stderr",
     "output_type": "stream",
     "text": [
      "[SPLIT2 - without] Epoch 5/5: 100%|██████████| 80/80 [05:11<00:00,  3.90s/it]\n"
     ]
    },
    {
     "name": "stdout",
     "output_type": "stream",
     "text": [
      "[SPLIT2 - without] Epoch 5: Train Loss = 0.1492, Train Acc: 0.9410, Val Loss = 0.5824, Val Acc = 0.8365\n",
      "[SPLIT2 - without] Saved best model to MODEL2_bez.pth with Val Loss: 0.5824\n"
     ]
    },
    {
     "data": {
      "text/plain": "<Figure size 1000x500 with 1 Axes>",
      "image/png": "[encoded data removed]"
     },
     "metadata": {},
     "output_type": "display_data"
    }
   ],
   "source": [
    "train2, val2, _ = create_split_2(image_list)\n",
    "train_and_validate(\"SPLIT2\", train2, val2, \"MODEL2.pth\", 5, True)"
   ]
  },
  {
   "cell_type": "code",
   "execution_count": 80,
   "outputs": [
    {
     "name": "stdout",
     "output_type": "stream",
     "text": [
      "2544\n",
      "318\n"
     ]
    },
    {
     "name": "stderr",
     "output_type": "stream",
     "text": [
      "[SPLIT3] Epoch 1/5: 100%|██████████| 80/80 [06:00<00:00,  4.51s/it]\n"
     ]
    },
    {
     "name": "stdout",
     "output_type": "stream",
     "text": [
      "[SPLIT3] Epoch 1: Train Loss = 1.3631, Train Acc: 0.6863, Val Loss = 0.4080, Val Acc = 0.8585\n"
     ]
    },
    {
     "name": "stderr",
     "output_type": "stream",
     "text": [
      "[SPLIT3] Epoch 2/5: 100%|██████████| 80/80 [05:41<00:00,  4.26s/it]\n"
     ]
    },
    {
     "name": "stdout",
     "output_type": "stream",
     "text": [
      "[SPLIT3] Epoch 2: Train Loss = 0.5353, Train Acc: 0.8502, Val Loss = 0.3526, Val Acc = 0.9025\n"
     ]
    },
    {
     "name": "stderr",
     "output_type": "stream",
     "text": [
      "[SPLIT3] Epoch 3/5: 100%|██████████| 80/80 [05:26<00:00,  4.08s/it]\n"
     ]
    },
    {
     "name": "stdout",
     "output_type": "stream",
     "text": [
      "[SPLIT3] Epoch 3: Train Loss = 0.3113, Train Acc: 0.8950, Val Loss = 0.1637, Val Acc = 0.9560\n"
     ]
    },
    {
     "name": "stderr",
     "output_type": "stream",
     "text": [
      "[SPLIT3] Epoch 4/5: 100%|██████████| 80/80 [05:22<00:00,  4.03s/it]\n"
     ]
    },
    {
     "name": "stdout",
     "output_type": "stream",
     "text": [
      "[SPLIT3] Epoch 4: Train Loss = 0.2433, Train Acc: 0.9202, Val Loss = 0.1258, Val Acc = 0.9623\n"
     ]
    },
    {
     "name": "stderr",
     "output_type": "stream",
     "text": [
      "[SPLIT3] Epoch 5/5: 100%|██████████| 80/80 [05:22<00:00,  4.03s/it]\n"
     ]
    },
    {
     "name": "stdout",
     "output_type": "stream",
     "text": [
      "[SPLIT3] Epoch 5: Train Loss = 0.1568, Train Acc: 0.9430, Val Loss = 0.0886, Val Acc = 0.9623\n",
      "[SPLIT3] Saved best model to MODEL3.pth with Val Loss: 0.0886\n"
     ]
    },
    {
     "data": {
      "text/plain": "<Figure size 1000x500 with 1 Axes>",
      "image/png": "[encoded data removed]"
     },
     "metadata": {},
     "output_type": "display_data"
    }
   ],
   "source": [
    "train3, val3, _ = create_split_3(image_list)\n",
    "train_and_validate(\"SPLIT3\", train3, val3, \"MODEL3.pth\", 5, True)"
   ],
   "metadata": {
    "collapsed": false,
    "ExecuteTime": {
     "end_time": "2025-05-06T10:01:41.526556500Z",
     "start_time": "2025-05-06T09:32:47.966468200Z"
    }
   },
   "id": "7c8c55bcab7a5b56"
  },
  {
   "cell_type": "code",
   "execution_count": null,
   "outputs": [],
   "source": [],
   "metadata": {
    "collapsed": false
   },
   "id": "9dfaf5843a804b5c"
  }
 ],
 "metadata": {
  "kernelspec": {
   "display_name": "Python 3 (ipykernel)",
   "language": "python",
   "name": "python3"
  },
  "language_info": {
   "codemirror_mode": {
    "name": "ipython",
    "version": 3
   },
   "file_extension": ".py",
   "mimetype": "text/x-python",
   "name": "python",
   "nbconvert_exporter": "python",
   "pygments_lexer": "ipython3",
   "version": "3.12.2"
  }
 },
 "nbformat": 4,
 "nbformat_minor": 5
}
