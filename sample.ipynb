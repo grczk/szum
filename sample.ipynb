{
 "cells": [
  {
   "metadata": {
    "ExecuteTime": {
     "end_time": "2025-04-06T09:26:12.646218Z",
     "start_time": "2025-04-06T09:26:12.480421Z"
    }
   },
   "cell_type": "code",
   "source": [
    "import glob\n",
    "import os\n",
    "from pathlib import Path\n",
    "from random import Random\n",
    "\n",
    "lista = glob.glob(\"<path>/Nowy folder/notsmoking*\")\n",
    "for file in lista:\n",
    "    Path(file).rename(f\"<path>/not_smoking/{os.path.basename(file)}\")\n",
    "\n",
    "lista = glob.glob(\"<path>/Nowy folder/smoking*\")\n",
    "for file in lista:\n",
    "    Path(file).rename(f\"<path>/smoking/{os.path.basename(file)}\")"
   ],
   "id": "fbc121e30a2defb3",
   "outputs": [],
   "execution_count": 12
  },
  {
   "metadata": {
    "ExecuteTime": {
     "end_time": "2025-04-06T09:52:30.144098Z",
     "start_time": "2025-04-06T09:52:30.140580Z"
    }
   },
   "cell_type": "code",
   "source": [
    "paths = [\n",
    "    \".../Szum/not_smoking\",\n",
    "    \".../Szum/smoking\",\n",
    "    \".../Szum/Other\"\n",
    "]"
   ],
   "id": "818fa5d530d49bd1",
   "outputs": [],
   "execution_count": 23
  },
  {
   "metadata": {},
   "cell_type": "code",
   "source": [
    "from PIL import Image\n",
    "\n",
    "for path in paths:\n",
    "    print(path)\n",
    "    small_photo = []\n",
    "    for filename in os.listdir(path):\n",
    "        filepath = os.path.join(path, filename)\n",
    "\n",
    "        try:\n",
    "            with Image.open(filepath) as img:\n",
    "                width, height = img.size\n",
    "                if width < 200 or height < 200:\n",
    "                    small_photo.append(filepath)\n",
    "        except Exception as e:\n",
    "            print(f\"Nie udało się otworzyć {filename}: {e}\")\n",
    "\n",
    "    try:\n",
    "        os.mkdir(f\"{path}\\\\small_photo\")\n",
    "    except FileExistsError:\n",
    "        pass\n",
    "    for file in small_photo:\n",
    "        Path(file).rename(f\"{path}/small_photo/{os.path.basename(file)}\")"
   ],
   "id": "f8ac48d0efa283dd",
   "outputs": [],
   "execution_count": null
  },
  {
   "metadata": {
    "ExecuteTime": {
     "end_time": "2025-04-06T10:10:08.502215Z",
     "start_time": "2025-04-06T10:10:08.213384Z"
    }
   },
   "cell_type": "code",
   "source": [
    "for path in paths:\n",
    "    try:\n",
    "        os.mkdir(f\"{path}/not_jpg\")\n",
    "    except FileExistsError:\n",
    "        pass\n",
    "    for filename in [f for f in os.listdir(path) if os.path.isfile(os.path.join(path, f))]:\n",
    "        if Path(filename).suffix.lower() not in ['.jpg', '.jpeg']:\n",
    "            Path(f\"{path}/{filename}\").rename(f\"{path}/not_jpg/{filename}\")"
   ],
   "id": "94c2030c1b185671",
   "outputs": [],
   "execution_count": 34
  },
  {
   "metadata": {},
   "cell_type": "code",
   "source": [
    "for path in paths:\n",
    "    print(\"Number of images in:\", path, \"=\", len([f for f in os.listdir(path) if os.path.isfile(os.path.join(path, f))]))"
   ],
   "id": "e6cb9c045fbd103f",
   "outputs": [],
   "execution_count": null
  },
  {
   "metadata": {},
   "cell_type": "code",
   "source": [
    "import random as rnd\n",
    "\n",
    "random = rnd.Random()\n",
    "random.seed(6042025)\n",
    "selected_images = []\n",
    "for path in paths:\n",
    "    filename_list = [f for f in os.listdir(path) if os.path.isfile(os.path.join(path, f))]\n",
    "    random.shuffle(filename_list)\n",
    "    selected_images.append(filename_list[:1500])\n",
    "\n"
   ],
   "id": "99fa5529e144da94",
   "outputs": [],
   "execution_count": null
  }
 ],
 "metadata": {
  "kernelspec": {
   "display_name": "Python 3",
   "language": "python",
   "name": "python3"
  },
  "language_info": {
   "codemirror_mode": {
    "name": "ipython",
    "version": 2
   },
   "file_extension": ".py",
   "mimetype": "text/x-python",
   "name": "python",
   "nbconvert_exporter": "python",
   "pygments_lexer": "ipython2",
   "version": "2.7.6"
  }
 },
 "nbformat": 4,
 "nbformat_minor": 5
}
