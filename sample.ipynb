{
 "cells": [
  {
   "metadata": {},
   "cell_type": "markdown",
   "source": "# Import and some path preparation",
   "id": "cd67bce93de11c8c"
  },
  {
   "metadata": {},
   "cell_type": "code",
   "outputs": [],
   "execution_count": null,
   "source": [
    "import glob\n",
    "import os\n",
    "from collections import Counter\n",
    "from pathlib import Path\n",
    "from random import Random\n",
    "from PIL import Image\n",
    "import shutil\n",
    "from IPython.core.display import HTML"
   ],
   "id": "9667dd77fc09dab9"
  },
  {
   "metadata": {
    "ExecuteTime": {
     "end_time": "2025-04-06T17:39:39.417004Z",
     "start_time": "2025-04-06T17:39:39.412490Z"
    }
   },
   "cell_type": "code",
   "source": "main_szum_path = \"C:/Users/kubix23/OneDrive/Pulpit/Szum\"",
   "id": "c8ac1f34e4d5a6d3",
   "outputs": [],
   "execution_count": 2
  },
  {
   "metadata": {
    "ExecuteTime": {
     "end_time": "2025-04-06T17:39:42.168820Z",
     "start_time": "2025-04-06T17:39:42.164476Z"
    }
   },
   "cell_type": "code",
   "source": [
    "datasets = {\n",
    "    \"Recognize Animals\": f\"{main_szum_path}/datasets/data1\",\n",
    "    \"Cigarette Smoker Detection\": f\"{main_szum_path}/datasets/data2\",\n",
    "    \"Smoker Detection [Image] classification Dataset\": f\"{main_szum_path}/datasets/data3\",\n",
    "}"
   ],
   "id": "7aaae1124bb98f77",
   "outputs": [],
   "execution_count": 3
  },
  {
   "metadata": {},
   "cell_type": "markdown",
   "source": "# Merging test/valid/train in datasets",
   "id": "e2fcb2a6a986a058"
  },
  {
   "metadata": {},
   "cell_type": "markdown",
   "source": "## Smoker Detection [Image] classification Dataset separation",
   "id": "9bdf3d17b02c8fcb"
  },
  {
   "metadata": {
    "ExecuteTime": {
     "end_time": "2025-04-06T17:39:45.597786Z",
     "start_time": "2025-04-06T17:39:45.294546Z"
    }
   },
   "cell_type": "code",
   "source": [
    "try:\n",
    "    os.mkdir(f\"{datasets[\"Smoker Detection [Image] classification Dataset\"]}/not_smoking\")\n",
    "except FileExistsError:\n",
    "    pass\n",
    "try:\n",
    "    os.mkdir(f\"{datasets[\"Smoker Detection [Image] classification Dataset\"]}/smoking\")\n",
    "except FileExistsError:\n",
    "    pass\n",
    "\n",
    "lista = glob.glob(f\"{datasets[\"Smoker Detection [Image] classification Dataset\"]}/**/notsmoking*.*\",recursive=True)\n",
    "for file in lista:\n",
    "    Path(file).rename(f\"{datasets[\"Smoker Detection [Image] classification Dataset\"]}/not_smoking/{os.path.basename(file)}\")\n",
    "\n",
    "lista = glob.glob(f\"{datasets[\"Smoker Detection [Image] classification Dataset\"]}/**/smoking*.*\",recursive=True)\n",
    "for file in lista:\n",
    "    Path(file).rename(f\"{datasets[\"Smoker Detection [Image] classification Dataset\"]}/smoking/{os.path.basename(file)}\")"
   ],
   "id": "c95bd422bc5bd46e",
   "outputs": [],
   "execution_count": 4
  },
  {
   "metadata": {},
   "cell_type": "markdown",
   "source": "## Recognize Animals separation",
   "id": "d030471ecddc8dc2"
  },
  {
   "metadata": {
    "ExecuteTime": {
     "end_time": "2025-04-06T17:47:03.519816Z",
     "start_time": "2025-04-06T17:47:00.453401Z"
    }
   },
   "cell_type": "code",
   "source": [
    "try:\n",
    "    os.mkdir(f\"{datasets[\"Recognize Animals\"]}/other\")\n",
    "except FileExistsError:\n",
    "    pass\n",
    "\n",
    "lista = glob.glob(f\"{datasets[\"Recognize Animals\"]}/**/*.*\",recursive=True)\n",
    "for file in lista:\n",
    "    Path(file).rename(f\"{datasets[\"Recognize Animals\"]}/other/{os.path.basename(file)}\")"
   ],
   "id": "81941db15d4b4d84",
   "outputs": [],
   "execution_count": 5
  },
  {
   "metadata": {},
   "cell_type": "markdown",
   "source": "# Dataset statistics",
   "id": "d5cb8d51d638e85c"
  },
  {
   "metadata": {
    "ExecuteTime": {
     "end_time": "2025-04-06T17:49:00.550981Z",
     "start_time": "2025-04-06T17:47:22.342406Z"
    }
   },
   "cell_type": "code",
   "source": [
    "datasets_lists = []\n",
    "for key, value in datasets.items():\n",
    "    print(f\"Processing: {key}\")\n",
    "    smoking_list = glob.glob(f\"{value}/smoking/*.*\")\n",
    "    not_smoking_list = glob.glob(f\"{value}/not_smoking/*.*\")\n",
    "    other_list = glob.glob(f\"{value}/other/*.*\")\n",
    "    all_list = glob.glob(f\"{value}/**/*.*\",recursive=True)\n",
    "\n",
    "    image_list = []\n",
    "    for i in all_list:\n",
    "        try:\n",
    "            with Image.open(i) as img:\n",
    "                image_list.append(img)\n",
    "        except Exception as e:\n",
    "            pass\n",
    "    datasets_lists.append({\n",
    "        \"key\": key,\n",
    "        \"smoking_list\": smoking_list,\n",
    "        \"not_smoking_list\": not_smoking_list,\n",
    "        \"other_list\": other_list,\n",
    "        \"image_list\": image_list,\n",
    "        \"all_list\": all_list,\n",
    "    })"
   ],
   "id": "be9f7b752a88fba8",
   "outputs": [
    {
     "name": "stdout",
     "output_type": "stream",
     "text": [
      "Processing: Recognize Animals\n",
      "Processing: Cigarette Smoker Detection\n",
      "Processing: Smoker Detection [Image] classification Dataset\n"
     ]
    }
   ],
   "execution_count": 6
  },
  {
   "metadata": {
    "ExecuteTime": {
     "end_time": "2025-04-06T17:49:04.423728Z",
     "start_time": "2025-04-06T17:49:04.404369Z"
    }
   },
   "cell_type": "code",
   "source": [
    "for data in datasets_lists:\n",
    "    size_list = [i.size for i in data[\"image_list\"]]\n",
    "    type_count_list = Counter([i.format for i in data[\"image_list\"]])\n",
    "    display()\n",
    "    display(HTML(f\"\"\"\n",
    "        <h1>{data[\"key\"]}</h1>\n",
    "        <p><b>Smoking count:</b> {len(data[\"smoking_list\"])} ({len(data[\"smoking_list\"])/len(data[\"all_list\"]) * 100}%)</p>\n",
    "        <p><b>Not smoking count:</b> {len(data[\"not_smoking_list\"])} ({len(data[\"not_smoking_list\"])/len(data[\"all_list\"]) * 100}%)</p>\n",
    "        <p><b>Other count:</b> {len(data[\"other_list\"])} ({len(data[\"other_list\"])/len(data[\"all_list\"]) * 100}%)</p>\n",
    "        <p><b>Max size:</b> {max(size_list)}; <b>Min size:</b> {min(size_list)}</p>\n",
    "        <p><b>Type count:</b></p> <ul>{\"\".join([f\"<li>{k}: {v}</li>\" for k,v in type_count_list.items()])}</ul>\n",
    "    \"\"\"))"
   ],
   "id": "5d8cc6418086722",
   "outputs": [
    {
     "data": {
      "text/plain": [
       "<IPython.core.display.HTML object>"
      ],
      "text/html": [
       "\n",
       "        <h1>Recognize Animals</h1>\n",
       "        <p><b>Smoking count:</b> 0 (0.0%)</p>\n",
       "        <p><b>Not smoking count:</b> 0 (0.0%)</p>\n",
       "        <p><b>Other count:</b> 9108 (100.0%)</p>\n",
       "        <p><b>Max size:</b> (640, 640); <b>Min size:</b> (65, 64)</p>\n",
       "        <p><b>Type count:</b></p> <ul><li>JPEG: 9058</li><li>PNG: 48</li></ul>\n",
       "    "
      ]
     },
     "metadata": {},
     "output_type": "display_data"
    },
    {
     "data": {
      "text/plain": [
       "<IPython.core.display.HTML object>"
      ],
      "text/html": [
       "\n",
       "        <h1>Cigarette Smoker Detection</h1>\n",
       "        <p><b>Smoking count:</b> 1996 (60.94656488549618%)</p>\n",
       "        <p><b>Not smoking count:</b> 1279 (39.05343511450381%)</p>\n",
       "        <p><b>Other count:</b> 0 (0.0%)</p>\n",
       "        <p><b>Max size:</b> (7360, 4912); <b>Min size:</b> (78, 144)</p>\n",
       "        <p><b>Type count:</b></p> <ul><li>JPEG: 3120</li><li>PNG: 121</li><li>MPO: 4</li><li>GIF: 30</li></ul>\n",
       "    "
      ]
     },
     "metadata": {},
     "output_type": "display_data"
    },
    {
     "data": {
      "text/plain": [
       "<IPython.core.display.HTML object>"
      ],
      "text/html": [
       "\n",
       "        <h1>Smoker Detection [Image] classification Dataset</h1>\n",
       "        <p><b>Smoking count:</b> 560 (50.0%)</p>\n",
       "        <p><b>Not smoking count:</b> 560 (50.0%)</p>\n",
       "        <p><b>Other count:</b> 0 (0.0%)</p>\n",
       "        <p><b>Max size:</b> (250, 250); <b>Min size:</b> (250, 250)</p>\n",
       "        <p><b>Type count:</b></p> <ul><li>JPEG: 1120</li></ul>\n",
       "    "
      ]
     },
     "metadata": {},
     "output_type": "display_data"
    }
   ],
   "execution_count": 7
  },
  {
   "metadata": {},
   "cell_type": "markdown",
   "source": "# Merging all datasets to one",
   "id": "19716541812a4e20"
  },
  {
   "metadata": {
    "ExecuteTime": {
     "end_time": "2025-04-06T17:49:34.177102Z",
     "start_time": "2025-04-06T17:49:34.173109Z"
    }
   },
   "cell_type": "code",
   "source": [
    "paths = [\n",
    "    f\"{main_szum_path}/not_smoking\",\n",
    "    f\"{main_szum_path}/smoking\",\n",
    "    f\"{main_szum_path}/other\"\n",
    "]"
   ],
   "id": "818fa5d530d49bd1",
   "outputs": [],
   "execution_count": 8
  },
  {
   "metadata": {
    "ExecuteTime": {
     "end_time": "2025-04-06T17:49:44.995726Z",
     "start_time": "2025-04-06T17:49:36.369474Z"
    }
   },
   "cell_type": "code",
   "source": [
    "for data in datasets_lists:\n",
    "    for i in paths:\n",
    "        try:\n",
    "            os.mkdir(i)\n",
    "        except FileExistsError:\n",
    "            pass\n",
    "        for file in data[f\"{os.path.basename(i)}_list\"]:\n",
    "            shutil.copy(file, f\"{i}/{os.path.basename(file)}\")"
   ],
   "id": "1c2ef250f59020b8",
   "outputs": [],
   "execution_count": 9
  },
  {
   "metadata": {
    "ExecuteTime": {
     "end_time": "2025-04-06T17:50:24.954535Z",
     "start_time": "2025-04-06T17:50:24.889812Z"
    }
   },
   "cell_type": "code",
   "source": [
    "lista = [(os.path.basename(path),len(glob.glob(f\"{path}/*.*\"))) for path in paths]\n",
    "all_count = sum([v for _,v in lista])\n",
    "display(HTML(f\"\"\"\n",
    "    <h1>Merged datasets</h1>\n",
    "    <ul>{\"\".join([f\"<li><b>{k}:</b> {v} ({v/all_count *100}%)</li>\" for k, v in lista])}</ul>\n",
    "\"\"\"))"
   ],
   "id": "7cf3655208979b59",
   "outputs": [
    {
     "data": {
      "text/plain": [
       "<IPython.core.display.HTML object>"
      ],
      "text/html": [
       "\n",
       "    <h1>Merged datasets</h1>\n",
       "    <ul><li><b>not_smoking:</b> 1839 (13.61919573428127%)</li><li><b>smoking:</b> 2556 (18.92912686069762%)</li><li><b>other:</b> 9108 (67.4516774050211%)</li></ul>\n"
      ]
     },
     "metadata": {},
     "output_type": "display_data"
    }
   ],
   "execution_count": 10
  },
  {
   "metadata": {},
   "cell_type": "markdown",
   "source": "## Filter images based on their size",
   "id": "8bee2f3593b78ae2"
  },
  {
   "metadata": {
    "ExecuteTime": {
     "end_time": "2025-04-06T17:52:09.270920Z",
     "start_time": "2025-04-06T17:50:32.838116Z"
    }
   },
   "cell_type": "code",
   "source": [
    "for path in paths:\n",
    "    small_photo = []\n",
    "    for filename in os.listdir(path):\n",
    "        filepath = os.path.join(path, filename)\n",
    "        if os.path.isfile(filepath):\n",
    "            try:\n",
    "                with Image.open(filepath) as img:\n",
    "                    width, height = img.size\n",
    "                    if width < 200 or height < 200:\n",
    "                        small_photo.append(filepath)\n",
    "            except Exception as e:\n",
    "                print(f\"Error in open {filename}: {e}\")\n",
    "\n",
    "    try:\n",
    "        os.mkdir(f\"{path}\\\\small_photo\")\n",
    "    except FileExistsError:\n",
    "        pass\n",
    "    for file in small_photo:\n",
    "        Path(file).rename(f\"{path}/small_photo/{os.path.basename(file)}\")"
   ],
   "id": "f8ac48d0efa283dd",
   "outputs": [
    {
     "name": "stdout",
     "output_type": "stream",
     "text": [
      "Nie udało się otworzyć filenames.txt: cannot identify image file 'C:/Users/kubix23/OneDrive/Pulpit/Szum/other\\\\filenames.txt'\n",
      "Nie udało się otworzyć filenames_elefante_train.txt: cannot identify image file 'C:/Users/kubix23/OneDrive/Pulpit/Szum/other\\\\filenames_elefante_train.txt'\n"
     ]
    }
   ],
   "execution_count": 11
  },
  {
   "metadata": {
    "ExecuteTime": {
     "end_time": "2025-04-06T17:57:24.410501Z",
     "start_time": "2025-04-06T17:57:24.352926Z"
    }
   },
   "cell_type": "code",
   "source": [
    "lista = [(os.path.basename(path),len(glob.glob(f\"{path}/*.*\"))) for path in paths]\n",
    "all_count = sum([v for _,v in lista])\n",
    "display(HTML(f\"\"\"\n",
    "    <h1>Merged datasets after size filter</h1>\n",
    "    <ul>{\"\".join([f\"<li><b>{k}:</b> {v} ({v/all_count *100}%)</li>\" for k, v in lista])}</ul>\n",
    "\"\"\"))"
   ],
   "id": "40a0999545c9ab69",
   "outputs": [
    {
     "data": {
      "text/plain": [
       "<IPython.core.display.HTML object>"
      ],
      "text/html": [
       "\n",
       "    <h1>Merged datasets after size filter</h1>\n",
       "    <ul><li><b>not_smoking:</b> 1835 (16.015011345784604%)</li><li><b>smoking:</b> 2483 (21.670448594868212%)</li><li><b>other:</b> 7140 (62.31454005934718%)</li></ul>\n"
      ]
     },
     "metadata": {},
     "output_type": "display_data"
    }
   ],
   "execution_count": 12
  },
  {
   "metadata": {},
   "cell_type": "markdown",
   "source": "## Filter images based on their format/type",
   "id": "8bf8c4e937aa41a1"
  },
  {
   "metadata": {
    "ExecuteTime": {
     "end_time": "2025-04-06T17:59:42.934237Z",
     "start_time": "2025-04-06T17:59:42.737936Z"
    }
   },
   "cell_type": "code",
   "source": [
    "for path in paths:\n",
    "    try:\n",
    "        os.mkdir(f\"{path}/not_jpg\")\n",
    "    except FileExistsError:\n",
    "        pass\n",
    "    for filename in [f for f in os.listdir(path) if os.path.isfile(os.path.join(path, f))]:\n",
    "        if Path(filename).suffix.lower() not in ['.jpg', '.jpeg']:\n",
    "            Path(f\"{path}/{filename}\").rename(f\"{path}/not_jpg/{filename}\")"
   ],
   "id": "94c2030c1b185671",
   "outputs": [],
   "execution_count": 13
  },
  {
   "metadata": {
    "ExecuteTime": {
     "end_time": "2025-04-06T18:00:00.388660Z",
     "start_time": "2025-04-06T18:00:00.333931Z"
    }
   },
   "cell_type": "code",
   "source": [
    "lista = [(os.path.basename(path),len(glob.glob(f\"{path}/*.*\"))) for path in paths]\n",
    "all_count = sum([v for _,v in lista])\n",
    "display(HTML(f\"\"\"\n",
    "    <h1>Merged datasets after format filter</h1>\n",
    "    <ul>{\"\".join([f\"<li><b>{k}:</b> {v} ({v/all_count *100}%)</li>\" for k, v in lista])}</ul>\n",
    "\"\"\"))"
   ],
   "id": "9376c589a71defe7",
   "outputs": [
    {
     "data": {
      "text/plain": [
       "<IPython.core.display.HTML object>"
      ],
      "text/html": [
       "\n",
       "    <h1>Merged datasets after format filter</h1>\n",
       "    <ul><li><b>not_smoking:</b> 1754 (15.542755870624722%)</li><li><b>smoking:</b> 2441 (21.630482941958352%)</li><li><b>other:</b> 7090 (62.82676118741692%)</li></ul>\n"
      ]
     },
     "metadata": {},
     "output_type": "display_data"
    }
   ],
   "execution_count": 14
  },
  {
   "metadata": {
    "ExecuteTime": {
     "end_time": "2025-04-06T14:11:03.035865900Z",
     "start_time": "2025-04-06T13:39:39.654874Z"
    }
   },
   "cell_type": "code",
   "source": [
    "random = Random()\n",
    "random.seed(6042025)\n",
    "selected_images = []\n",
    "\n",
    "for path in paths:\n",
    "    try:\n",
    "        os.mkdir()\n",
    "    except FileExistsError:\n",
    "        pass\n",
    "    filename_list = [f for f in os.listdir(path) if os.path.isfile(os.path.join(path, f))]\n",
    "    random.shuffle(filename_list)\n",
    "    print(len(filename_list[:1500]))"
   ],
   "id": "99fa5529e144da94",
   "outputs": [],
   "execution_count": 48
  },
  {
   "metadata": {},
   "cell_type": "code",
   "outputs": [],
   "execution_count": null,
   "source": "",
   "id": "2a7acacd3b26e428"
  }
 ],
 "metadata": {
  "kernelspec": {
   "display_name": "Python 3",
   "language": "python",
   "name": "python3"
  },
  "language_info": {
   "codemirror_mode": {
    "name": "ipython",
    "version": 2
   },
   "file_extension": ".py",
   "mimetype": "text/x-python",
   "name": "python",
   "nbconvert_exporter": "python",
   "pygments_lexer": "ipython2",
   "version": "2.7.6"
  }
 },
 "nbformat": 4,
 "nbformat_minor": 5
}
