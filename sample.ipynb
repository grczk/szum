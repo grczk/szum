{
 "cells": [
  {
   "metadata": {
    "ExecuteTime": {
     "end_time": "2025-04-06T15:04:59.867671Z",
     "start_time": "2025-04-06T15:04:59.862673Z"
    }
   },
   "cell_type": "code",
   "source": [
    "import glob\n",
    "import os\n",
    "from collections import Counter\n",
    "from pathlib import Path\n",
    "from random import Random\n",
    "from PIL import Image\n",
    "import shutil\n",
    "from IPython.core.display import HTML"
   ],
   "id": "fbc121e30a2defb3",
   "outputs": [],
   "execution_count": 136
  },
  {
   "metadata": {
    "ExecuteTime": {
     "end_time": "2025-04-06T14:11:02.898197Z",
     "start_time": "2025-04-06T14:11:02.894273Z"
    }
   },
   "cell_type": "code",
   "source": "main_szum_path = \"C:/Users/kubix23/OneDrive/Pulpit/Szum\"",
   "id": "c8ac1f34e4d5a6d3",
   "outputs": [],
   "execution_count": 75
  },
  {
   "metadata": {
    "ExecuteTime": {
     "end_time": "2025-04-06T14:16:44.192433Z",
     "start_time": "2025-04-06T14:16:44.187284Z"
    }
   },
   "cell_type": "code",
   "source": [
    "datasets = {\n",
    "    \"Recognize Animals\": f\"{main_szum_path}/datasets/data1\",\n",
    "    \"Cigarette Smoker Detection\": f\"{main_szum_path}/datasets/data2\",\n",
    "    \"Smoker Detection [Image] classification Dataset\": f\"{main_szum_path}/datasets/data3\",\n",
    "}"
   ],
   "id": "7aaae1124bb98f77",
   "outputs": [],
   "execution_count": 84
  },
  {
   "metadata": {
    "ExecuteTime": {
     "end_time": "2025-04-06T14:19:56.253430Z",
     "start_time": "2025-04-06T14:19:55.994159Z"
    }
   },
   "cell_type": "code",
   "source": [
    "try:\n",
    "    os.mkdir(f\"{datasets[\"Smoker Detection [Image] classification Dataset\"]}/not_smoking\")\n",
    "except FileExistsError:\n",
    "    pass\n",
    "try:\n",
    "    os.mkdir(f\"{datasets[\"Smoker Detection [Image] classification Dataset\"]}/smoking\")\n",
    "except FileExistsError:\n",
    "    pass\n",
    "\n",
    "lista = glob.glob(f\"{datasets[\"Smoker Detection [Image] classification Dataset\"]}/**/notsmoking*.*\",recursive=True)\n",
    "for file in lista:\n",
    "    Path(file).rename(f\"{datasets[\"Smoker Detection [Image] classification Dataset\"]}/not_smoking/{os.path.basename(file)}\")\n",
    "\n",
    "lista = glob.glob(f\"{datasets[\"Smoker Detection [Image] classification Dataset\"]}/**/smoking*.*\",recursive=True)\n",
    "for file in lista:\n",
    "    Path(file).rename(f\"{datasets[\"Smoker Detection [Image] classification Dataset\"]}/smoking/{os.path.basename(file)}\")"
   ],
   "id": "c95bd422bc5bd46e",
   "outputs": [],
   "execution_count": 88
  },
  {
   "metadata": {},
   "cell_type": "code",
   "outputs": [],
   "execution_count": null,
   "source": [
    "try:\n",
    "    os.mkdir(f\"{datasets[\"Recognize Animals\"]}/other\")\n",
    "except FileExistsError:\n",
    "    pass\n",
    "\n",
    "lista = glob.glob(f\"{datasets[\"Recognize Animals\"]}/**/*.*\",recursive=True)\n",
    "for file in lista:\n",
    "    Path(file).rename(f\"{datasets[\"Recognize Animals\"]}/other/{os.path.basename(file)}\")"
   ],
   "id": "81941db15d4b4d84"
  },
  {
   "metadata": {},
   "cell_type": "markdown",
   "source": "# Dataset statistics",
   "id": "d5cb8d51d638e85c"
  },
  {
   "metadata": {
    "ExecuteTime": {
     "end_time": "2025-04-06T15:00:11.945176Z",
     "start_time": "2025-04-06T15:00:09.516353Z"
    }
   },
   "cell_type": "code",
   "source": [
    "datasets_lists = []\n",
    "for key, value in datasets.items():\n",
    "    print(f\"Processing: {key}\")\n",
    "    smoking_list = glob.glob(f\"{value}/smoking/*.*\")\n",
    "    non_smoking_list = glob.glob(f\"{value}/not_smoking/*.*\")\n",
    "    other_list = glob.glob(f\"{value}/other/*.*\")\n",
    "    all_list = glob.glob(f\"{value}/**/*.*\",recursive=True)\n",
    "\n",
    "    image_list = []\n",
    "    for i in all_list:\n",
    "        try:\n",
    "            with Image.open(i) as img:\n",
    "                image_list.append(img)\n",
    "        except Exception as e:\n",
    "            pass\n",
    "    datasets_lists.append({\n",
    "        \"key\": key,\n",
    "        \"smoking_list\": smoking_list,\n",
    "        \"non_smoking_list\": non_smoking_list,\n",
    "        \"other_list\": other_list,\n",
    "        \"image_list\": image_list,\n",
    "        \"all_list\": all_list,\n",
    "    })"
   ],
   "id": "be9f7b752a88fba8",
   "outputs": [
    {
     "name": "stdout",
     "output_type": "stream",
     "text": [
      "Processing: Recognize Animals\n",
      "Processing: Cigarette Smoker Detection\n",
      "Processing: Smoker Detection [Image] classification Dataset\n"
     ]
    }
   ],
   "execution_count": 128
  },
  {
   "metadata": {
    "ExecuteTime": {
     "end_time": "2025-04-06T15:23:02.886654Z",
     "start_time": "2025-04-06T15:23:02.865325Z"
    }
   },
   "cell_type": "code",
   "source": [
    "for data in datasets_lists:\n",
    "    size_list = [i.size for i in data[\"image_list\"]]\n",
    "    type_count_list = Counter([i.format for i in data[\"image_list\"]])\n",
    "    display()\n",
    "    display(HTML(f\"\"\"\n",
    "        <h1>{data[\"key\"]}</h1>\n",
    "        <p><b>Smoking count:</b> {len(data[\"smoking_list\"])} ({len(data[\"smoking_list\"])/len(data[\"all_list\"]) * 100}%)</p>\n",
    "        <p><b>Not smoking count:</b> {len(data[\"non_smoking_list\"])} ({len(data[\"non_smoking_list\"])/len(data[\"all_list\"]) * 100}%)</p>\n",
    "        <p><b>Other count:</b> {len(data[\"other_list\"])} ({len(data[\"other_list\"])/len(data[\"all_list\"]) * 100}%)</p>\n",
    "        <p><b>Max size:</b> {max(size_list)}; <b>Min size:</b> {min(size_list)}</p>\n",
    "        <p><b>Type count:</b></p> <ul>{\"\".join([f\"<li>{k}: {v}</li>\" for k,v in type_count_list.items()])}</ul>\n",
    "    \"\"\"))"
   ],
   "id": "5d8cc6418086722",
   "outputs": [
    {
     "data": {
      "text/plain": [
       "<IPython.core.display.HTML object>"
      ],
      "text/html": [
       "\n",
       "        <h1>Recognize Animals</h1>\n",
       "        <p><b>Smoking count:</b> 0 (0.0%)</p>\n",
       "        <p><b>Not smoking count:</b> 0 (0.0%)</p>\n",
       "        <p><b>Other count:</b> 9108 (100.0%)</p>\n",
       "        <p><b>Max size:</b> (640, 640); <b>Min size:</b> (65, 64)</p>\n",
       "        <p><b>Type count:</b></p> <ul><li>JPEG: 9058</li><li>PNG: 48</li></ul>\n",
       "    "
      ]
     },
     "metadata": {},
     "output_type": "display_data"
    },
    {
     "data": {
      "text/plain": [
       "<IPython.core.display.HTML object>"
      ],
      "text/html": [
       "\n",
       "        <h1>Cigarette Smoker Detection</h1>\n",
       "        <p><b>Smoking count:</b> 1996 (60.94656488549618%)</p>\n",
       "        <p><b>Not smoking count:</b> 1279 (39.05343511450381%)</p>\n",
       "        <p><b>Other count:</b> 0 (0.0%)</p>\n",
       "        <p><b>Max size:</b> (7360, 4912); <b>Min size:</b> (78, 144)</p>\n",
       "        <p><b>Type count:</b></p> <ul><li>JPEG: 3120</li><li>PNG: 121</li><li>MPO: 4</li><li>GIF: 30</li></ul>\n",
       "    "
      ]
     },
     "metadata": {},
     "output_type": "display_data"
    },
    {
     "data": {
      "text/plain": [
       "<IPython.core.display.HTML object>"
      ],
      "text/html": [
       "\n",
       "        <h1>Smoker Detection [Image] classification Dataset</h1>\n",
       "        <p><b>Smoking count:</b> 560 (50.0%)</p>\n",
       "        <p><b>Not smoking count:</b> 560 (50.0%)</p>\n",
       "        <p><b>Other count:</b> 0 (0.0%)</p>\n",
       "        <p><b>Max size:</b> (250, 250); <b>Min size:</b> (250, 250)</p>\n",
       "        <p><b>Type count:</b></p> <ul><li>JPEG: 1120</li></ul>\n",
       "    "
      ]
     },
     "metadata": {},
     "output_type": "display_data"
    }
   ],
   "execution_count": 152
  },
  {
   "metadata": {
    "ExecuteTime": {
     "end_time": "2025-04-06T15:23:07.450576Z",
     "start_time": "2025-04-06T15:23:07.446751Z"
    }
   },
   "cell_type": "code",
   "source": [
    "paths = [\n",
    "    f\"{main_szum_path}/not_smoking\",\n",
    "    f\"{main_szum_path}/smoking\",\n",
    "    f\"{main_szum_path}/other\"\n",
    "]"
   ],
   "id": "818fa5d530d49bd1",
   "outputs": [],
   "execution_count": 153
  },
  {
   "metadata": {
    "ExecuteTime": {
     "end_time": "2025-04-06T15:31:33.325553Z",
     "start_time": "2025-04-06T15:31:33.150304Z"
    }
   },
   "cell_type": "code",
   "source": [
    "lista = [(os.path.basename(path),len(glob.glob(f\"{main_szum_path}/**/{os.path.basename(path)}/*.*\",recursive=True))) for path in paths]\n",
    "display(HTML(f\"\"\"\n",
    "    <h1>All datasets</h1>\n",
    "    <ul>{\"\".join([f\"<li><b>{k}:</b> {v}</li>\" for k, v in lista])}</ul>\n",
    "\"\"\"))"
   ],
   "id": "7cf3655208979b59",
   "outputs": [
    {
     "data": {
      "text/plain": [
       "<IPython.core.display.HTML object>"
      ],
      "text/html": [
       "\n",
       "    <h1>All data</h1>\n",
       "    <ul><li><b>not_smoking:</b> 1839</li><li><b>smoking:</b> 2556</li><li><b>other:</b> 9108</li></ul>\n"
      ]
     },
     "metadata": {},
     "output_type": "display_data"
    }
   ],
   "execution_count": 159
  },
  {
   "metadata": {
    "ExecuteTime": {
     "end_time": "2025-04-06T14:11:03.024397Z",
     "start_time": "2025-04-06T14:11:02.994469Z"
    }
   },
   "cell_type": "code",
   "source": [
    "for path in paths:\n",
    "    print(path)\n",
    "    small_photo = []\n",
    "    for filename in os.listdir(path):\n",
    "        filepath = os.path.join(path, filename)\n",
    "\n",
    "        try:\n",
    "            with Image.open(filepath) as img:\n",
    "                width, height = img.size\n",
    "                if width < 200 or height < 200:\n",
    "                    small_photo.append(filepath)\n",
    "        except Exception as e:\n",
    "            print(f\"Nie udało się otworzyć {filename}: {e}\")\n",
    "\n",
    "    try:\n",
    "        os.mkdir(f\"{path}\\\\small_photo\")\n",
    "    except FileExistsError:\n",
    "        pass\n",
    "    for file in small_photo:\n",
    "        Path(file).rename(f\"{path}/small_photo/{os.path.basename(file)}\")"
   ],
   "id": "f8ac48d0efa283dd",
   "outputs": [
    {
     "name": "stdout",
     "output_type": "stream",
     "text": [
      ".../Szum/not_smoking\n"
     ]
    },
    {
     "ename": "FileNotFoundError",
     "evalue": "[WinError 3] System nie może odnaleźć określonej ścieżki: '.../Szum/not_smoking'",
     "output_type": "error",
     "traceback": [
      "\u001B[1;31m---------------------------------------------------------------------------\u001B[0m",
      "\u001B[1;31mFileNotFoundError\u001B[0m                         Traceback (most recent call last)",
      "Cell \u001B[1;32mIn[80], line 4\u001B[0m\n\u001B[0;32m      2\u001B[0m \u001B[38;5;28mprint\u001B[39m(path)\n\u001B[0;32m      3\u001B[0m small_photo \u001B[38;5;241m=\u001B[39m []\n\u001B[1;32m----> 4\u001B[0m \u001B[38;5;28;01mfor\u001B[39;00m filename \u001B[38;5;129;01min\u001B[39;00m os\u001B[38;5;241m.\u001B[39mlistdir(path):\n\u001B[0;32m      5\u001B[0m     filepath \u001B[38;5;241m=\u001B[39m os\u001B[38;5;241m.\u001B[39mpath\u001B[38;5;241m.\u001B[39mjoin(path, filename)\n\u001B[0;32m      7\u001B[0m     \u001B[38;5;28;01mtry\u001B[39;00m:\n",
      "\u001B[1;31mFileNotFoundError\u001B[0m: [WinError 3] System nie może odnaleźć określonej ścieżki: '.../Szum/not_smoking'"
     ]
    }
   ],
   "execution_count": 80
  },
  {
   "metadata": {
    "ExecuteTime": {
     "end_time": "2025-04-06T14:11:03.026923Z",
     "start_time": "2025-04-06T10:10:08.213384Z"
    }
   },
   "cell_type": "code",
   "source": [
    "for path in paths:\n",
    "    try:\n",
    "        os.mkdir(f\"{path}/not_jpg\")\n",
    "    except FileExistsError:\n",
    "        pass\n",
    "    for filename in [f for f in os.listdir(path) if os.path.isfile(os.path.join(path, f))]:\n",
    "        if Path(filename).suffix.lower() not in ['.jpg', '.jpeg']:\n",
    "            Path(f\"{path}/{filename}\").rename(f\"{path}/not_jpg/{filename}\")"
   ],
   "id": "94c2030c1b185671",
   "outputs": [],
   "execution_count": 34
  },
  {
   "metadata": {},
   "cell_type": "code",
   "source": [
    "for path in paths:\n",
    "    print(\"Number of images in:\", path, \"=\", len([f for f in os.listdir(path) if os.path.isfile(os.path.join(path, f))]))"
   ],
   "id": "e6cb9c045fbd103f",
   "outputs": [],
   "execution_count": null
  },
  {
   "metadata": {
    "ExecuteTime": {
     "end_time": "2025-04-06T14:11:03.035865900Z",
     "start_time": "2025-04-06T13:39:39.654874Z"
    }
   },
   "cell_type": "code",
   "source": [
    "random = Random()\n",
    "random.seed(6042025)\n",
    "selected_images = []\n",
    "\n",
    "for path in paths:\n",
    "    try:\n",
    "        os.mkdir()\n",
    "    except FileExistsError:\n",
    "        pass\n",
    "    filename_list = [f for f in os.listdir(path) if os.path.isfile(os.path.join(path, f))]\n",
    "    random.shuffle(filename_list)\n",
    "    print(len(filename_list[:1500]))"
   ],
   "id": "99fa5529e144da94",
   "outputs": [],
   "execution_count": 48
  },
  {
   "metadata": {},
   "cell_type": "code",
   "outputs": [],
   "execution_count": null,
   "source": "",
   "id": "2a7acacd3b26e428"
  }
 ],
 "metadata": {
  "kernelspec": {
   "display_name": "Python 3",
   "language": "python",
   "name": "python3"
  },
  "language_info": {
   "codemirror_mode": {
    "name": "ipython",
    "version": 2
   },
   "file_extension": ".py",
   "mimetype": "text/x-python",
   "name": "python",
   "nbconvert_exporter": "python",
   "pygments_lexer": "ipython2",
   "version": "2.7.6"
  }
 },
 "nbformat": 4,
 "nbformat_minor": 5
}
